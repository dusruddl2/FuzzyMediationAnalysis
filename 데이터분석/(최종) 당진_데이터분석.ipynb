{
 "cells": [
  {
   "cell_type": "markdown",
   "id": "7c4dfca9",
   "metadata": {},
   "source": [
    "[이름 주의] df_DS으로 모든 코드를 바꾸기 힘들어서 df_SJ 그대로 이용"
   ]
  },
  {
   "cell_type": "code",
   "execution_count": 2,
   "id": "1d0d60a8",
   "metadata": {},
   "outputs": [],
   "source": [
    "import numpy as np\n",
    "import pandas as pd\n",
    "import warnings\n",
    "warnings.filterwarnings('ignore')"
   ]
  },
  {
   "cell_type": "code",
   "execution_count": 3,
   "id": "6c8b5a48",
   "metadata": {},
   "outputs": [],
   "source": [
    "file_dr = 'C:/Users/82108/Desktop/dldusrud/논문집필/데이터분석/'"
   ]
  },
  {
   "cell_type": "code",
   "execution_count": 4,
   "id": "4541b53e",
   "metadata": {},
   "outputs": [],
   "source": [
    "df_SJ = pd.read_csv(file_dr + '당진_태양광 데이터.csv')"
   ]
  },
  {
   "cell_type": "code",
   "execution_count": 5,
   "id": "d3b20ea1",
   "metadata": {
    "scrolled": true
   },
   "outputs": [
    {
     "data": {
      "text/html": [
       "<div>\n",
       "<style scoped>\n",
       "    .dataframe tbody tr th:only-of-type {\n",
       "        vertical-align: middle;\n",
       "    }\n",
       "\n",
       "    .dataframe tbody tr th {\n",
       "        vertical-align: top;\n",
       "    }\n",
       "\n",
       "    .dataframe thead th {\n",
       "        text-align: right;\n",
       "    }\n",
       "</style>\n",
       "<table border=\"1\" class=\"dataframe\">\n",
       "  <thead>\n",
       "    <tr style=\"text-align: right;\">\n",
       "      <th></th>\n",
       "      <th>date</th>\n",
       "      <th>temp</th>\n",
       "      <th>rain</th>\n",
       "      <th>wind_speed</th>\n",
       "      <th>humidity</th>\n",
       "      <th>sun_hour</th>\n",
       "      <th>sun_power</th>\n",
       "      <th>snow</th>\n",
       "      <th>cloud</th>\n",
       "      <th>solar_power</th>\n",
       "    </tr>\n",
       "  </thead>\n",
       "  <tbody>\n",
       "    <tr>\n",
       "      <th>0</th>\n",
       "      <td>2015-01-01 1:00</td>\n",
       "      <td>-4.4</td>\n",
       "      <td>0.0</td>\n",
       "      <td>5.4</td>\n",
       "      <td>47.0</td>\n",
       "      <td>0.0</td>\n",
       "      <td>0.0</td>\n",
       "      <td>0.5</td>\n",
       "      <td>6</td>\n",
       "      <td>0.0</td>\n",
       "    </tr>\n",
       "    <tr>\n",
       "      <th>1</th>\n",
       "      <td>2015-01-01 2:00</td>\n",
       "      <td>-4.6</td>\n",
       "      <td>0.0</td>\n",
       "      <td>4.9</td>\n",
       "      <td>50.0</td>\n",
       "      <td>0.0</td>\n",
       "      <td>0.0</td>\n",
       "      <td>0.5</td>\n",
       "      <td>0</td>\n",
       "      <td>0.0</td>\n",
       "    </tr>\n",
       "    <tr>\n",
       "      <th>2</th>\n",
       "      <td>2015-01-01 3:00</td>\n",
       "      <td>-4.7</td>\n",
       "      <td>0.0</td>\n",
       "      <td>6.2</td>\n",
       "      <td>50.0</td>\n",
       "      <td>0.0</td>\n",
       "      <td>0.0</td>\n",
       "      <td>0.5</td>\n",
       "      <td>6</td>\n",
       "      <td>0.0</td>\n",
       "    </tr>\n",
       "    <tr>\n",
       "      <th>3</th>\n",
       "      <td>2015-01-01 4:00</td>\n",
       "      <td>-5.0</td>\n",
       "      <td>0.0</td>\n",
       "      <td>5.0</td>\n",
       "      <td>56.0</td>\n",
       "      <td>0.0</td>\n",
       "      <td>0.0</td>\n",
       "      <td>0.5</td>\n",
       "      <td>6</td>\n",
       "      <td>0.0</td>\n",
       "    </tr>\n",
       "    <tr>\n",
       "      <th>4</th>\n",
       "      <td>2015-01-01 5:00</td>\n",
       "      <td>-5.0</td>\n",
       "      <td>0.0</td>\n",
       "      <td>5.5</td>\n",
       "      <td>52.0</td>\n",
       "      <td>0.0</td>\n",
       "      <td>0.0</td>\n",
       "      <td>0.5</td>\n",
       "      <td>6</td>\n",
       "      <td>0.0</td>\n",
       "    </tr>\n",
       "    <tr>\n",
       "      <th>...</th>\n",
       "      <td>...</td>\n",
       "      <td>...</td>\n",
       "      <td>...</td>\n",
       "      <td>...</td>\n",
       "      <td>...</td>\n",
       "      <td>...</td>\n",
       "      <td>...</td>\n",
       "      <td>...</td>\n",
       "      <td>...</td>\n",
       "      <td>...</td>\n",
       "    </tr>\n",
       "    <tr>\n",
       "      <th>26298</th>\n",
       "      <td>2017-12-31 19:00</td>\n",
       "      <td>0.9</td>\n",
       "      <td>0.0</td>\n",
       "      <td>2.0</td>\n",
       "      <td>60.0</td>\n",
       "      <td>0.0</td>\n",
       "      <td>0.0</td>\n",
       "      <td>0.0</td>\n",
       "      <td>0</td>\n",
       "      <td>0.0</td>\n",
       "    </tr>\n",
       "    <tr>\n",
       "      <th>26299</th>\n",
       "      <td>2017-12-31 20:00</td>\n",
       "      <td>0.4</td>\n",
       "      <td>0.0</td>\n",
       "      <td>1.3</td>\n",
       "      <td>63.0</td>\n",
       "      <td>0.0</td>\n",
       "      <td>0.0</td>\n",
       "      <td>0.0</td>\n",
       "      <td>0</td>\n",
       "      <td>0.0</td>\n",
       "    </tr>\n",
       "    <tr>\n",
       "      <th>26300</th>\n",
       "      <td>2017-12-31 21:00</td>\n",
       "      <td>-1.6</td>\n",
       "      <td>0.0</td>\n",
       "      <td>0.4</td>\n",
       "      <td>72.0</td>\n",
       "      <td>0.0</td>\n",
       "      <td>0.0</td>\n",
       "      <td>0.0</td>\n",
       "      <td>0</td>\n",
       "      <td>0.0</td>\n",
       "    </tr>\n",
       "    <tr>\n",
       "      <th>26301</th>\n",
       "      <td>2017-12-31 22:00</td>\n",
       "      <td>-1.8</td>\n",
       "      <td>0.0</td>\n",
       "      <td>0.8</td>\n",
       "      <td>78.0</td>\n",
       "      <td>0.0</td>\n",
       "      <td>0.0</td>\n",
       "      <td>0.0</td>\n",
       "      <td>0</td>\n",
       "      <td>0.0</td>\n",
       "    </tr>\n",
       "    <tr>\n",
       "      <th>26302</th>\n",
       "      <td>2017-12-31 23:00</td>\n",
       "      <td>-2.0</td>\n",
       "      <td>0.0</td>\n",
       "      <td>0.9</td>\n",
       "      <td>72.0</td>\n",
       "      <td>0.0</td>\n",
       "      <td>0.0</td>\n",
       "      <td>0.0</td>\n",
       "      <td>0</td>\n",
       "      <td>0.0</td>\n",
       "    </tr>\n",
       "  </tbody>\n",
       "</table>\n",
       "<p>26303 rows × 10 columns</p>\n",
       "</div>"
      ],
      "text/plain": [
       "                   date  temp  rain  wind_speed  humidity  sun_hour  \\\n",
       "0       2015-01-01 1:00  -4.4   0.0         5.4      47.0       0.0   \n",
       "1       2015-01-01 2:00  -4.6   0.0         4.9      50.0       0.0   \n",
       "2       2015-01-01 3:00  -4.7   0.0         6.2      50.0       0.0   \n",
       "3       2015-01-01 4:00  -5.0   0.0         5.0      56.0       0.0   \n",
       "4       2015-01-01 5:00  -5.0   0.0         5.5      52.0       0.0   \n",
       "...                 ...   ...   ...         ...       ...       ...   \n",
       "26298  2017-12-31 19:00   0.9   0.0         2.0      60.0       0.0   \n",
       "26299  2017-12-31 20:00   0.4   0.0         1.3      63.0       0.0   \n",
       "26300  2017-12-31 21:00  -1.6   0.0         0.4      72.0       0.0   \n",
       "26301  2017-12-31 22:00  -1.8   0.0         0.8      78.0       0.0   \n",
       "26302  2017-12-31 23:00  -2.0   0.0         0.9      72.0       0.0   \n",
       "\n",
       "       sun_power  snow  cloud  solar_power  \n",
       "0            0.0   0.5      6          0.0  \n",
       "1            0.0   0.5      0          0.0  \n",
       "2            0.0   0.5      6          0.0  \n",
       "3            0.0   0.5      6          0.0  \n",
       "4            0.0   0.5      6          0.0  \n",
       "...          ...   ...    ...          ...  \n",
       "26298        0.0   0.0      0          0.0  \n",
       "26299        0.0   0.0      0          0.0  \n",
       "26300        0.0   0.0      0          0.0  \n",
       "26301        0.0   0.0      0          0.0  \n",
       "26302        0.0   0.0      0          0.0  \n",
       "\n",
       "[26303 rows x 10 columns]"
      ]
     },
     "execution_count": 5,
     "metadata": {},
     "output_type": "execute_result"
    }
   ],
   "source": [
    "df_SJ"
   ]
  },
  {
   "cell_type": "markdown",
   "id": "126815f8",
   "metadata": {},
   "source": [
    "### 결측값 처리하기 (선형보간)"
   ]
  },
  {
   "cell_type": "code",
   "execution_count": 6,
   "id": "2dbe440f",
   "metadata": {
    "scrolled": true
   },
   "outputs": [
    {
     "data": {
      "text/plain": [
       "date            0\n",
       "temp            0\n",
       "rain            0\n",
       "wind_speed      0\n",
       "humidity        0\n",
       "sun_hour        0\n",
       "sun_power       0\n",
       "snow            0\n",
       "cloud           0\n",
       "solar_power    48\n",
       "dtype: int64"
      ]
     },
     "execution_count": 6,
     "metadata": {},
     "output_type": "execute_result"
    }
   ],
   "source": [
    "pd.isnull(df_SJ).sum()"
   ]
  },
  {
   "cell_type": "code",
   "execution_count": 7,
   "id": "3c8c683d",
   "metadata": {},
   "outputs": [],
   "source": [
    "df_SJ_nonull = df_SJ.interpolate(method = 'linear')"
   ]
  },
  {
   "cell_type": "code",
   "execution_count": 8,
   "id": "a45278e5",
   "metadata": {},
   "outputs": [],
   "source": [
    "df_SJ_nonull.to_csv(file_dr + '당진_태양광 데이터_결측치처리.csv')"
   ]
  },
  {
   "cell_type": "markdown",
   "id": "0c3c1279",
   "metadata": {},
   "source": [
    "### 결측값 처리 후 데이터 확인"
   ]
  },
  {
   "cell_type": "code",
   "execution_count": 9,
   "id": "90e35e45",
   "metadata": {},
   "outputs": [],
   "source": [
    "df_SJ = pd.read_csv(file_dr + '당진_태양광 데이터_결측치처리.csv')"
   ]
  },
  {
   "cell_type": "code",
   "execution_count": 10,
   "id": "6ac4fb6e",
   "metadata": {
    "scrolled": true
   },
   "outputs": [
    {
     "data": {
      "text/html": [
       "<div>\n",
       "<style scoped>\n",
       "    .dataframe tbody tr th:only-of-type {\n",
       "        vertical-align: middle;\n",
       "    }\n",
       "\n",
       "    .dataframe tbody tr th {\n",
       "        vertical-align: top;\n",
       "    }\n",
       "\n",
       "    .dataframe thead th {\n",
       "        text-align: right;\n",
       "    }\n",
       "</style>\n",
       "<table border=\"1\" class=\"dataframe\">\n",
       "  <thead>\n",
       "    <tr style=\"text-align: right;\">\n",
       "      <th></th>\n",
       "      <th>Unnamed: 0</th>\n",
       "      <th>date</th>\n",
       "      <th>temp</th>\n",
       "      <th>rain</th>\n",
       "      <th>wind_speed</th>\n",
       "      <th>humidity</th>\n",
       "      <th>sun_hour</th>\n",
       "      <th>sun_power</th>\n",
       "      <th>snow</th>\n",
       "      <th>cloud</th>\n",
       "      <th>solar_power</th>\n",
       "    </tr>\n",
       "  </thead>\n",
       "  <tbody>\n",
       "    <tr>\n",
       "      <th>0</th>\n",
       "      <td>0</td>\n",
       "      <td>2015-01-01 1:00</td>\n",
       "      <td>-4.4</td>\n",
       "      <td>0.0</td>\n",
       "      <td>5.4</td>\n",
       "      <td>47.0</td>\n",
       "      <td>0.0</td>\n",
       "      <td>0.0</td>\n",
       "      <td>0.5</td>\n",
       "      <td>6</td>\n",
       "      <td>0.0</td>\n",
       "    </tr>\n",
       "    <tr>\n",
       "      <th>1</th>\n",
       "      <td>1</td>\n",
       "      <td>2015-01-01 2:00</td>\n",
       "      <td>-4.6</td>\n",
       "      <td>0.0</td>\n",
       "      <td>4.9</td>\n",
       "      <td>50.0</td>\n",
       "      <td>0.0</td>\n",
       "      <td>0.0</td>\n",
       "      <td>0.5</td>\n",
       "      <td>0</td>\n",
       "      <td>0.0</td>\n",
       "    </tr>\n",
       "    <tr>\n",
       "      <th>2</th>\n",
       "      <td>2</td>\n",
       "      <td>2015-01-01 3:00</td>\n",
       "      <td>-4.7</td>\n",
       "      <td>0.0</td>\n",
       "      <td>6.2</td>\n",
       "      <td>50.0</td>\n",
       "      <td>0.0</td>\n",
       "      <td>0.0</td>\n",
       "      <td>0.5</td>\n",
       "      <td>6</td>\n",
       "      <td>0.0</td>\n",
       "    </tr>\n",
       "    <tr>\n",
       "      <th>3</th>\n",
       "      <td>3</td>\n",
       "      <td>2015-01-01 4:00</td>\n",
       "      <td>-5.0</td>\n",
       "      <td>0.0</td>\n",
       "      <td>5.0</td>\n",
       "      <td>56.0</td>\n",
       "      <td>0.0</td>\n",
       "      <td>0.0</td>\n",
       "      <td>0.5</td>\n",
       "      <td>6</td>\n",
       "      <td>0.0</td>\n",
       "    </tr>\n",
       "    <tr>\n",
       "      <th>4</th>\n",
       "      <td>4</td>\n",
       "      <td>2015-01-01 5:00</td>\n",
       "      <td>-5.0</td>\n",
       "      <td>0.0</td>\n",
       "      <td>5.5</td>\n",
       "      <td>52.0</td>\n",
       "      <td>0.0</td>\n",
       "      <td>0.0</td>\n",
       "      <td>0.5</td>\n",
       "      <td>6</td>\n",
       "      <td>0.0</td>\n",
       "    </tr>\n",
       "  </tbody>\n",
       "</table>\n",
       "</div>"
      ],
      "text/plain": [
       "   Unnamed: 0             date  temp  rain  wind_speed  humidity  sun_hour  \\\n",
       "0           0  2015-01-01 1:00  -4.4   0.0         5.4      47.0       0.0   \n",
       "1           1  2015-01-01 2:00  -4.6   0.0         4.9      50.0       0.0   \n",
       "2           2  2015-01-01 3:00  -4.7   0.0         6.2      50.0       0.0   \n",
       "3           3  2015-01-01 4:00  -5.0   0.0         5.0      56.0       0.0   \n",
       "4           4  2015-01-01 5:00  -5.0   0.0         5.5      52.0       0.0   \n",
       "\n",
       "   sun_power  snow  cloud  solar_power  \n",
       "0        0.0   0.5      6          0.0  \n",
       "1        0.0   0.5      0          0.0  \n",
       "2        0.0   0.5      6          0.0  \n",
       "3        0.0   0.5      6          0.0  \n",
       "4        0.0   0.5      6          0.0  "
      ]
     },
     "execution_count": 10,
     "metadata": {},
     "output_type": "execute_result"
    }
   ],
   "source": [
    "df_SJ.head()"
   ]
  },
  {
   "cell_type": "markdown",
   "id": "32cc6277",
   "metadata": {},
   "source": [
    "- date열은 제거"
   ]
  },
  {
   "cell_type": "code",
   "execution_count": 11,
   "id": "31ff8c9c",
   "metadata": {
    "scrolled": true
   },
   "outputs": [
    {
     "data": {
      "text/html": [
       "<div>\n",
       "<style scoped>\n",
       "    .dataframe tbody tr th:only-of-type {\n",
       "        vertical-align: middle;\n",
       "    }\n",
       "\n",
       "    .dataframe tbody tr th {\n",
       "        vertical-align: top;\n",
       "    }\n",
       "\n",
       "    .dataframe thead th {\n",
       "        text-align: right;\n",
       "    }\n",
       "</style>\n",
       "<table border=\"1\" class=\"dataframe\">\n",
       "  <thead>\n",
       "    <tr style=\"text-align: right;\">\n",
       "      <th></th>\n",
       "      <th>temp</th>\n",
       "      <th>rain</th>\n",
       "      <th>wind_speed</th>\n",
       "      <th>humidity</th>\n",
       "      <th>sun_hour</th>\n",
       "      <th>sun_power</th>\n",
       "      <th>snow</th>\n",
       "      <th>cloud</th>\n",
       "      <th>solar_power</th>\n",
       "    </tr>\n",
       "  </thead>\n",
       "  <tbody>\n",
       "    <tr>\n",
       "      <th>0</th>\n",
       "      <td>-4.4</td>\n",
       "      <td>0.0</td>\n",
       "      <td>5.4</td>\n",
       "      <td>47.0</td>\n",
       "      <td>0.0</td>\n",
       "      <td>0.0</td>\n",
       "      <td>0.5</td>\n",
       "      <td>6</td>\n",
       "      <td>0.0</td>\n",
       "    </tr>\n",
       "    <tr>\n",
       "      <th>1</th>\n",
       "      <td>-4.6</td>\n",
       "      <td>0.0</td>\n",
       "      <td>4.9</td>\n",
       "      <td>50.0</td>\n",
       "      <td>0.0</td>\n",
       "      <td>0.0</td>\n",
       "      <td>0.5</td>\n",
       "      <td>0</td>\n",
       "      <td>0.0</td>\n",
       "    </tr>\n",
       "    <tr>\n",
       "      <th>2</th>\n",
       "      <td>-4.7</td>\n",
       "      <td>0.0</td>\n",
       "      <td>6.2</td>\n",
       "      <td>50.0</td>\n",
       "      <td>0.0</td>\n",
       "      <td>0.0</td>\n",
       "      <td>0.5</td>\n",
       "      <td>6</td>\n",
       "      <td>0.0</td>\n",
       "    </tr>\n",
       "    <tr>\n",
       "      <th>3</th>\n",
       "      <td>-5.0</td>\n",
       "      <td>0.0</td>\n",
       "      <td>5.0</td>\n",
       "      <td>56.0</td>\n",
       "      <td>0.0</td>\n",
       "      <td>0.0</td>\n",
       "      <td>0.5</td>\n",
       "      <td>6</td>\n",
       "      <td>0.0</td>\n",
       "    </tr>\n",
       "    <tr>\n",
       "      <th>4</th>\n",
       "      <td>-5.0</td>\n",
       "      <td>0.0</td>\n",
       "      <td>5.5</td>\n",
       "      <td>52.0</td>\n",
       "      <td>0.0</td>\n",
       "      <td>0.0</td>\n",
       "      <td>0.5</td>\n",
       "      <td>6</td>\n",
       "      <td>0.0</td>\n",
       "    </tr>\n",
       "  </tbody>\n",
       "</table>\n",
       "</div>"
      ],
      "text/plain": [
       "   temp  rain  wind_speed  humidity  sun_hour  sun_power  snow  cloud  \\\n",
       "0  -4.4   0.0         5.4      47.0       0.0        0.0   0.5      6   \n",
       "1  -4.6   0.0         4.9      50.0       0.0        0.0   0.5      0   \n",
       "2  -4.7   0.0         6.2      50.0       0.0        0.0   0.5      6   \n",
       "3  -5.0   0.0         5.0      56.0       0.0        0.0   0.5      6   \n",
       "4  -5.0   0.0         5.5      52.0       0.0        0.0   0.5      6   \n",
       "\n",
       "   solar_power  \n",
       "0          0.0  \n",
       "1          0.0  \n",
       "2          0.0  \n",
       "3          0.0  \n",
       "4          0.0  "
      ]
     },
     "execution_count": 11,
     "metadata": {},
     "output_type": "execute_result"
    }
   ],
   "source": [
    "df_SJ = df_SJ.drop(['Unnamed: 0','date'],axis=1)\n",
    "df_SJ.head()"
   ]
  },
  {
   "cell_type": "markdown",
   "id": "1632237b",
   "metadata": {},
   "source": [
    "### 모든 열의 값이 1인 것 추가 (const)"
   ]
  },
  {
   "cell_type": "code",
   "execution_count": 12,
   "id": "7df3109c",
   "metadata": {},
   "outputs": [],
   "source": [
    "one = np.ones((df_SJ.shape[0],1))\n",
    "one = pd.DataFrame(one)"
   ]
  },
  {
   "cell_type": "code",
   "execution_count": 13,
   "id": "1c8112a4",
   "metadata": {},
   "outputs": [
    {
     "data": {
      "text/html": [
       "<div>\n",
       "<style scoped>\n",
       "    .dataframe tbody tr th:only-of-type {\n",
       "        vertical-align: middle;\n",
       "    }\n",
       "\n",
       "    .dataframe tbody tr th {\n",
       "        vertical-align: top;\n",
       "    }\n",
       "\n",
       "    .dataframe thead th {\n",
       "        text-align: right;\n",
       "    }\n",
       "</style>\n",
       "<table border=\"1\" class=\"dataframe\">\n",
       "  <thead>\n",
       "    <tr style=\"text-align: right;\">\n",
       "      <th></th>\n",
       "      <th>0</th>\n",
       "      <th>temp</th>\n",
       "      <th>rain</th>\n",
       "      <th>wind_speed</th>\n",
       "      <th>humidity</th>\n",
       "      <th>sun_hour</th>\n",
       "      <th>sun_power</th>\n",
       "      <th>snow</th>\n",
       "      <th>cloud</th>\n",
       "      <th>solar_power</th>\n",
       "    </tr>\n",
       "  </thead>\n",
       "  <tbody>\n",
       "    <tr>\n",
       "      <th>0</th>\n",
       "      <td>1.0</td>\n",
       "      <td>-4.4</td>\n",
       "      <td>0.0</td>\n",
       "      <td>5.4</td>\n",
       "      <td>47.0</td>\n",
       "      <td>0.0</td>\n",
       "      <td>0.0</td>\n",
       "      <td>0.5</td>\n",
       "      <td>6</td>\n",
       "      <td>0.0</td>\n",
       "    </tr>\n",
       "    <tr>\n",
       "      <th>1</th>\n",
       "      <td>1.0</td>\n",
       "      <td>-4.6</td>\n",
       "      <td>0.0</td>\n",
       "      <td>4.9</td>\n",
       "      <td>50.0</td>\n",
       "      <td>0.0</td>\n",
       "      <td>0.0</td>\n",
       "      <td>0.5</td>\n",
       "      <td>0</td>\n",
       "      <td>0.0</td>\n",
       "    </tr>\n",
       "    <tr>\n",
       "      <th>2</th>\n",
       "      <td>1.0</td>\n",
       "      <td>-4.7</td>\n",
       "      <td>0.0</td>\n",
       "      <td>6.2</td>\n",
       "      <td>50.0</td>\n",
       "      <td>0.0</td>\n",
       "      <td>0.0</td>\n",
       "      <td>0.5</td>\n",
       "      <td>6</td>\n",
       "      <td>0.0</td>\n",
       "    </tr>\n",
       "    <tr>\n",
       "      <th>3</th>\n",
       "      <td>1.0</td>\n",
       "      <td>-5.0</td>\n",
       "      <td>0.0</td>\n",
       "      <td>5.0</td>\n",
       "      <td>56.0</td>\n",
       "      <td>0.0</td>\n",
       "      <td>0.0</td>\n",
       "      <td>0.5</td>\n",
       "      <td>6</td>\n",
       "      <td>0.0</td>\n",
       "    </tr>\n",
       "    <tr>\n",
       "      <th>4</th>\n",
       "      <td>1.0</td>\n",
       "      <td>-5.0</td>\n",
       "      <td>0.0</td>\n",
       "      <td>5.5</td>\n",
       "      <td>52.0</td>\n",
       "      <td>0.0</td>\n",
       "      <td>0.0</td>\n",
       "      <td>0.5</td>\n",
       "      <td>6</td>\n",
       "      <td>0.0</td>\n",
       "    </tr>\n",
       "  </tbody>\n",
       "</table>\n",
       "</div>"
      ],
      "text/plain": [
       "     0  temp  rain  wind_speed  humidity  sun_hour  sun_power  snow  cloud  \\\n",
       "0  1.0  -4.4   0.0         5.4      47.0       0.0        0.0   0.5      6   \n",
       "1  1.0  -4.6   0.0         4.9      50.0       0.0        0.0   0.5      0   \n",
       "2  1.0  -4.7   0.0         6.2      50.0       0.0        0.0   0.5      6   \n",
       "3  1.0  -5.0   0.0         5.0      56.0       0.0        0.0   0.5      6   \n",
       "4  1.0  -5.0   0.0         5.5      52.0       0.0        0.0   0.5      6   \n",
       "\n",
       "   solar_power  \n",
       "0          0.0  \n",
       "1          0.0  \n",
       "2          0.0  \n",
       "3          0.0  \n",
       "4          0.0  "
      ]
     },
     "execution_count": 13,
     "metadata": {},
     "output_type": "execute_result"
    }
   ],
   "source": [
    "df_SJ1 = pd.concat([one,df_SJ],axis=1)\n",
    "df_SJ1.head()"
   ]
  },
  {
   "cell_type": "markdown",
   "id": "9939bb6c",
   "metadata": {},
   "source": [
    "# 데이터 표준화 (Standardization)"
   ]
  },
  {
   "cell_type": "code",
   "execution_count": 14,
   "id": "5c186a09",
   "metadata": {},
   "outputs": [],
   "source": [
    "from sklearn.preprocessing import StandardScaler\n",
    "\n",
    "df_SJ_st = StandardScaler().fit_transform(df_SJ)\n",
    "df_SJ_st = pd.DataFrame(df_SJ_st,columns=df_SJ.columns)"
   ]
  },
  {
   "cell_type": "code",
   "execution_count": 15,
   "id": "e70a10a1",
   "metadata": {
    "scrolled": true
   },
   "outputs": [
    {
     "data": {
      "text/html": [
       "<div>\n",
       "<style scoped>\n",
       "    .dataframe tbody tr th:only-of-type {\n",
       "        vertical-align: middle;\n",
       "    }\n",
       "\n",
       "    .dataframe tbody tr th {\n",
       "        vertical-align: top;\n",
       "    }\n",
       "\n",
       "    .dataframe thead th {\n",
       "        text-align: right;\n",
       "    }\n",
       "</style>\n",
       "<table border=\"1\" class=\"dataframe\">\n",
       "  <thead>\n",
       "    <tr style=\"text-align: right;\">\n",
       "      <th></th>\n",
       "      <th>temp</th>\n",
       "      <th>rain</th>\n",
       "      <th>wind_speed</th>\n",
       "      <th>humidity</th>\n",
       "      <th>sun_hour</th>\n",
       "      <th>sun_power</th>\n",
       "      <th>snow</th>\n",
       "      <th>cloud</th>\n",
       "      <th>solar_power</th>\n",
       "    </tr>\n",
       "  </thead>\n",
       "  <tbody>\n",
       "    <tr>\n",
       "      <th>0</th>\n",
       "      <td>-1.653274</td>\n",
       "      <td>-0.096402</td>\n",
       "      <td>2.185007</td>\n",
       "      <td>-1.697738</td>\n",
       "      <td>-0.661259</td>\n",
       "      <td>-0.66238</td>\n",
       "      <td>0.452271</td>\n",
       "      <td>0.536202</td>\n",
       "      <td>-0.642665</td>\n",
       "    </tr>\n",
       "    <tr>\n",
       "      <th>1</th>\n",
       "      <td>-1.672671</td>\n",
       "      <td>-0.096402</td>\n",
       "      <td>1.864108</td>\n",
       "      <td>-1.539022</td>\n",
       "      <td>-0.661259</td>\n",
       "      <td>-0.66238</td>\n",
       "      <td>0.452271</td>\n",
       "      <td>-0.951166</td>\n",
       "      <td>-0.642665</td>\n",
       "    </tr>\n",
       "    <tr>\n",
       "      <th>2</th>\n",
       "      <td>-1.682370</td>\n",
       "      <td>-0.096402</td>\n",
       "      <td>2.698445</td>\n",
       "      <td>-1.539022</td>\n",
       "      <td>-0.661259</td>\n",
       "      <td>-0.66238</td>\n",
       "      <td>0.452271</td>\n",
       "      <td>0.536202</td>\n",
       "      <td>-0.642665</td>\n",
       "    </tr>\n",
       "    <tr>\n",
       "      <th>3</th>\n",
       "      <td>-1.711466</td>\n",
       "      <td>-0.096402</td>\n",
       "      <td>1.928288</td>\n",
       "      <td>-1.221590</td>\n",
       "      <td>-0.661259</td>\n",
       "      <td>-0.66238</td>\n",
       "      <td>0.452271</td>\n",
       "      <td>0.536202</td>\n",
       "      <td>-0.642665</td>\n",
       "    </tr>\n",
       "    <tr>\n",
       "      <th>4</th>\n",
       "      <td>-1.711466</td>\n",
       "      <td>-0.096402</td>\n",
       "      <td>2.249187</td>\n",
       "      <td>-1.433211</td>\n",
       "      <td>-0.661259</td>\n",
       "      <td>-0.66238</td>\n",
       "      <td>0.452271</td>\n",
       "      <td>0.536202</td>\n",
       "      <td>-0.642665</td>\n",
       "    </tr>\n",
       "  </tbody>\n",
       "</table>\n",
       "</div>"
      ],
      "text/plain": [
       "       temp      rain  wind_speed  humidity  sun_hour  sun_power      snow  \\\n",
       "0 -1.653274 -0.096402    2.185007 -1.697738 -0.661259   -0.66238  0.452271   \n",
       "1 -1.672671 -0.096402    1.864108 -1.539022 -0.661259   -0.66238  0.452271   \n",
       "2 -1.682370 -0.096402    2.698445 -1.539022 -0.661259   -0.66238  0.452271   \n",
       "3 -1.711466 -0.096402    1.928288 -1.221590 -0.661259   -0.66238  0.452271   \n",
       "4 -1.711466 -0.096402    2.249187 -1.433211 -0.661259   -0.66238  0.452271   \n",
       "\n",
       "      cloud  solar_power  \n",
       "0  0.536202    -0.642665  \n",
       "1 -0.951166    -0.642665  \n",
       "2  0.536202    -0.642665  \n",
       "3  0.536202    -0.642665  \n",
       "4  0.536202    -0.642665  "
      ]
     },
     "execution_count": 15,
     "metadata": {},
     "output_type": "execute_result"
    }
   ],
   "source": [
    "df_SJ_st.head()"
   ]
  },
  {
   "cell_type": "markdown",
   "id": "3cedecff",
   "metadata": {},
   "source": [
    "## 모든 열의 값이 1인 것 추가 (const)"
   ]
  },
  {
   "cell_type": "code",
   "execution_count": 16,
   "id": "36ed20ed",
   "metadata": {},
   "outputs": [],
   "source": [
    "one = np.ones((df_SJ_st.shape[0],1))\n",
    "one = pd.DataFrame(one)"
   ]
  },
  {
   "cell_type": "code",
   "execution_count": 17,
   "id": "9b363187",
   "metadata": {
    "scrolled": true
   },
   "outputs": [
    {
     "data": {
      "text/html": [
       "<div>\n",
       "<style scoped>\n",
       "    .dataframe tbody tr th:only-of-type {\n",
       "        vertical-align: middle;\n",
       "    }\n",
       "\n",
       "    .dataframe tbody tr th {\n",
       "        vertical-align: top;\n",
       "    }\n",
       "\n",
       "    .dataframe thead th {\n",
       "        text-align: right;\n",
       "    }\n",
       "</style>\n",
       "<table border=\"1\" class=\"dataframe\">\n",
       "  <thead>\n",
       "    <tr style=\"text-align: right;\">\n",
       "      <th></th>\n",
       "      <th>0</th>\n",
       "      <th>temp</th>\n",
       "      <th>rain</th>\n",
       "      <th>wind_speed</th>\n",
       "      <th>humidity</th>\n",
       "      <th>sun_hour</th>\n",
       "      <th>sun_power</th>\n",
       "      <th>snow</th>\n",
       "      <th>cloud</th>\n",
       "      <th>solar_power</th>\n",
       "    </tr>\n",
       "  </thead>\n",
       "  <tbody>\n",
       "    <tr>\n",
       "      <th>0</th>\n",
       "      <td>1.0</td>\n",
       "      <td>-1.653274</td>\n",
       "      <td>-0.096402</td>\n",
       "      <td>2.185007</td>\n",
       "      <td>-1.697738</td>\n",
       "      <td>-0.661259</td>\n",
       "      <td>-0.66238</td>\n",
       "      <td>0.452271</td>\n",
       "      <td>0.536202</td>\n",
       "      <td>-0.642665</td>\n",
       "    </tr>\n",
       "    <tr>\n",
       "      <th>1</th>\n",
       "      <td>1.0</td>\n",
       "      <td>-1.672671</td>\n",
       "      <td>-0.096402</td>\n",
       "      <td>1.864108</td>\n",
       "      <td>-1.539022</td>\n",
       "      <td>-0.661259</td>\n",
       "      <td>-0.66238</td>\n",
       "      <td>0.452271</td>\n",
       "      <td>-0.951166</td>\n",
       "      <td>-0.642665</td>\n",
       "    </tr>\n",
       "    <tr>\n",
       "      <th>2</th>\n",
       "      <td>1.0</td>\n",
       "      <td>-1.682370</td>\n",
       "      <td>-0.096402</td>\n",
       "      <td>2.698445</td>\n",
       "      <td>-1.539022</td>\n",
       "      <td>-0.661259</td>\n",
       "      <td>-0.66238</td>\n",
       "      <td>0.452271</td>\n",
       "      <td>0.536202</td>\n",
       "      <td>-0.642665</td>\n",
       "    </tr>\n",
       "    <tr>\n",
       "      <th>3</th>\n",
       "      <td>1.0</td>\n",
       "      <td>-1.711466</td>\n",
       "      <td>-0.096402</td>\n",
       "      <td>1.928288</td>\n",
       "      <td>-1.221590</td>\n",
       "      <td>-0.661259</td>\n",
       "      <td>-0.66238</td>\n",
       "      <td>0.452271</td>\n",
       "      <td>0.536202</td>\n",
       "      <td>-0.642665</td>\n",
       "    </tr>\n",
       "    <tr>\n",
       "      <th>4</th>\n",
       "      <td>1.0</td>\n",
       "      <td>-1.711466</td>\n",
       "      <td>-0.096402</td>\n",
       "      <td>2.249187</td>\n",
       "      <td>-1.433211</td>\n",
       "      <td>-0.661259</td>\n",
       "      <td>-0.66238</td>\n",
       "      <td>0.452271</td>\n",
       "      <td>0.536202</td>\n",
       "      <td>-0.642665</td>\n",
       "    </tr>\n",
       "  </tbody>\n",
       "</table>\n",
       "</div>"
      ],
      "text/plain": [
       "     0      temp      rain  wind_speed  humidity  sun_hour  sun_power  \\\n",
       "0  1.0 -1.653274 -0.096402    2.185007 -1.697738 -0.661259   -0.66238   \n",
       "1  1.0 -1.672671 -0.096402    1.864108 -1.539022 -0.661259   -0.66238   \n",
       "2  1.0 -1.682370 -0.096402    2.698445 -1.539022 -0.661259   -0.66238   \n",
       "3  1.0 -1.711466 -0.096402    1.928288 -1.221590 -0.661259   -0.66238   \n",
       "4  1.0 -1.711466 -0.096402    2.249187 -1.433211 -0.661259   -0.66238   \n",
       "\n",
       "       snow     cloud  solar_power  \n",
       "0  0.452271  0.536202    -0.642665  \n",
       "1  0.452271 -0.951166    -0.642665  \n",
       "2  0.452271  0.536202    -0.642665  \n",
       "3  0.452271  0.536202    -0.642665  \n",
       "4  0.452271  0.536202    -0.642665  "
      ]
     },
     "execution_count": 17,
     "metadata": {},
     "output_type": "execute_result"
    }
   ],
   "source": [
    "df_SJ_st1 = pd.concat([one,df_SJ_st],axis=1)\n",
    "df_SJ_st1.head()"
   ]
  },
  {
   "cell_type": "markdown",
   "id": "3540289d",
   "metadata": {},
   "source": [
    "# 데이터 정규화 (Normalization)"
   ]
  },
  {
   "cell_type": "code",
   "execution_count": 18,
   "id": "2e426b84",
   "metadata": {},
   "outputs": [],
   "source": [
    "from sklearn.preprocessing import MinMaxScaler\n",
    "\n",
    "df_SJ_no =  MinMaxScaler().fit_transform(df_SJ)\n",
    "df_SJ_no = pd.DataFrame(df_SJ_no,columns=df_SJ.columns)"
   ]
  },
  {
   "cell_type": "code",
   "execution_count": 19,
   "id": "d04bbab9",
   "metadata": {
    "scrolled": true
   },
   "outputs": [
    {
     "data": {
      "text/html": [
       "<div>\n",
       "<style scoped>\n",
       "    .dataframe tbody tr th:only-of-type {\n",
       "        vertical-align: middle;\n",
       "    }\n",
       "\n",
       "    .dataframe tbody tr th {\n",
       "        vertical-align: top;\n",
       "    }\n",
       "\n",
       "    .dataframe thead th {\n",
       "        text-align: right;\n",
       "    }\n",
       "</style>\n",
       "<table border=\"1\" class=\"dataframe\">\n",
       "  <thead>\n",
       "    <tr style=\"text-align: right;\">\n",
       "      <th></th>\n",
       "      <th>temp</th>\n",
       "      <th>rain</th>\n",
       "      <th>wind_speed</th>\n",
       "      <th>humidity</th>\n",
       "      <th>sun_hour</th>\n",
       "      <th>sun_power</th>\n",
       "      <th>snow</th>\n",
       "      <th>cloud</th>\n",
       "      <th>solar_power</th>\n",
       "    </tr>\n",
       "  </thead>\n",
       "  <tbody>\n",
       "    <tr>\n",
       "      <th>0</th>\n",
       "      <td>0.176596</td>\n",
       "      <td>0.0</td>\n",
       "      <td>0.490909</td>\n",
       "      <td>0.47</td>\n",
       "      <td>0.0</td>\n",
       "      <td>0.0</td>\n",
       "      <td>0.035461</td>\n",
       "      <td>0.6</td>\n",
       "      <td>0.0</td>\n",
       "    </tr>\n",
       "    <tr>\n",
       "      <th>1</th>\n",
       "      <td>0.172340</td>\n",
       "      <td>0.0</td>\n",
       "      <td>0.445455</td>\n",
       "      <td>0.50</td>\n",
       "      <td>0.0</td>\n",
       "      <td>0.0</td>\n",
       "      <td>0.035461</td>\n",
       "      <td>0.0</td>\n",
       "      <td>0.0</td>\n",
       "    </tr>\n",
       "    <tr>\n",
       "      <th>2</th>\n",
       "      <td>0.170213</td>\n",
       "      <td>0.0</td>\n",
       "      <td>0.563636</td>\n",
       "      <td>0.50</td>\n",
       "      <td>0.0</td>\n",
       "      <td>0.0</td>\n",
       "      <td>0.035461</td>\n",
       "      <td>0.6</td>\n",
       "      <td>0.0</td>\n",
       "    </tr>\n",
       "    <tr>\n",
       "      <th>3</th>\n",
       "      <td>0.163830</td>\n",
       "      <td>0.0</td>\n",
       "      <td>0.454545</td>\n",
       "      <td>0.56</td>\n",
       "      <td>0.0</td>\n",
       "      <td>0.0</td>\n",
       "      <td>0.035461</td>\n",
       "      <td>0.6</td>\n",
       "      <td>0.0</td>\n",
       "    </tr>\n",
       "    <tr>\n",
       "      <th>4</th>\n",
       "      <td>0.163830</td>\n",
       "      <td>0.0</td>\n",
       "      <td>0.500000</td>\n",
       "      <td>0.52</td>\n",
       "      <td>0.0</td>\n",
       "      <td>0.0</td>\n",
       "      <td>0.035461</td>\n",
       "      <td>0.6</td>\n",
       "      <td>0.0</td>\n",
       "    </tr>\n",
       "  </tbody>\n",
       "</table>\n",
       "</div>"
      ],
      "text/plain": [
       "       temp  rain  wind_speed  humidity  sun_hour  sun_power      snow  cloud  \\\n",
       "0  0.176596   0.0    0.490909      0.47       0.0        0.0  0.035461    0.6   \n",
       "1  0.172340   0.0    0.445455      0.50       0.0        0.0  0.035461    0.0   \n",
       "2  0.170213   0.0    0.563636      0.50       0.0        0.0  0.035461    0.6   \n",
       "3  0.163830   0.0    0.454545      0.56       0.0        0.0  0.035461    0.6   \n",
       "4  0.163830   0.0    0.500000      0.52       0.0        0.0  0.035461    0.6   \n",
       "\n",
       "   solar_power  \n",
       "0          0.0  \n",
       "1          0.0  \n",
       "2          0.0  \n",
       "3          0.0  \n",
       "4          0.0  "
      ]
     },
     "execution_count": 19,
     "metadata": {},
     "output_type": "execute_result"
    }
   ],
   "source": [
    "df_SJ_no.head()"
   ]
  },
  {
   "cell_type": "markdown",
   "id": "dc7736ca",
   "metadata": {},
   "source": [
    "## 모든 열의 값이 1인 것 추가 (const)"
   ]
  },
  {
   "cell_type": "code",
   "execution_count": 20,
   "id": "d57898d4",
   "metadata": {},
   "outputs": [],
   "source": [
    "one = np.ones((df_SJ_no.shape[0],1))\n",
    "one = pd.DataFrame(one)"
   ]
  },
  {
   "cell_type": "code",
   "execution_count": 21,
   "id": "78de936c",
   "metadata": {},
   "outputs": [
    {
     "data": {
      "text/html": [
       "<div>\n",
       "<style scoped>\n",
       "    .dataframe tbody tr th:only-of-type {\n",
       "        vertical-align: middle;\n",
       "    }\n",
       "\n",
       "    .dataframe tbody tr th {\n",
       "        vertical-align: top;\n",
       "    }\n",
       "\n",
       "    .dataframe thead th {\n",
       "        text-align: right;\n",
       "    }\n",
       "</style>\n",
       "<table border=\"1\" class=\"dataframe\">\n",
       "  <thead>\n",
       "    <tr style=\"text-align: right;\">\n",
       "      <th></th>\n",
       "      <th>0</th>\n",
       "      <th>temp</th>\n",
       "      <th>rain</th>\n",
       "      <th>wind_speed</th>\n",
       "      <th>humidity</th>\n",
       "      <th>sun_hour</th>\n",
       "      <th>sun_power</th>\n",
       "      <th>snow</th>\n",
       "      <th>cloud</th>\n",
       "      <th>solar_power</th>\n",
       "    </tr>\n",
       "  </thead>\n",
       "  <tbody>\n",
       "    <tr>\n",
       "      <th>0</th>\n",
       "      <td>1.0</td>\n",
       "      <td>0.176596</td>\n",
       "      <td>0.0</td>\n",
       "      <td>0.490909</td>\n",
       "      <td>0.47</td>\n",
       "      <td>0.0</td>\n",
       "      <td>0.0</td>\n",
       "      <td>0.035461</td>\n",
       "      <td>0.6</td>\n",
       "      <td>0.0</td>\n",
       "    </tr>\n",
       "    <tr>\n",
       "      <th>1</th>\n",
       "      <td>1.0</td>\n",
       "      <td>0.172340</td>\n",
       "      <td>0.0</td>\n",
       "      <td>0.445455</td>\n",
       "      <td>0.50</td>\n",
       "      <td>0.0</td>\n",
       "      <td>0.0</td>\n",
       "      <td>0.035461</td>\n",
       "      <td>0.0</td>\n",
       "      <td>0.0</td>\n",
       "    </tr>\n",
       "    <tr>\n",
       "      <th>2</th>\n",
       "      <td>1.0</td>\n",
       "      <td>0.170213</td>\n",
       "      <td>0.0</td>\n",
       "      <td>0.563636</td>\n",
       "      <td>0.50</td>\n",
       "      <td>0.0</td>\n",
       "      <td>0.0</td>\n",
       "      <td>0.035461</td>\n",
       "      <td>0.6</td>\n",
       "      <td>0.0</td>\n",
       "    </tr>\n",
       "    <tr>\n",
       "      <th>3</th>\n",
       "      <td>1.0</td>\n",
       "      <td>0.163830</td>\n",
       "      <td>0.0</td>\n",
       "      <td>0.454545</td>\n",
       "      <td>0.56</td>\n",
       "      <td>0.0</td>\n",
       "      <td>0.0</td>\n",
       "      <td>0.035461</td>\n",
       "      <td>0.6</td>\n",
       "      <td>0.0</td>\n",
       "    </tr>\n",
       "    <tr>\n",
       "      <th>4</th>\n",
       "      <td>1.0</td>\n",
       "      <td>0.163830</td>\n",
       "      <td>0.0</td>\n",
       "      <td>0.500000</td>\n",
       "      <td>0.52</td>\n",
       "      <td>0.0</td>\n",
       "      <td>0.0</td>\n",
       "      <td>0.035461</td>\n",
       "      <td>0.6</td>\n",
       "      <td>0.0</td>\n",
       "    </tr>\n",
       "  </tbody>\n",
       "</table>\n",
       "</div>"
      ],
      "text/plain": [
       "     0      temp  rain  wind_speed  humidity  sun_hour  sun_power      snow  \\\n",
       "0  1.0  0.176596   0.0    0.490909      0.47       0.0        0.0  0.035461   \n",
       "1  1.0  0.172340   0.0    0.445455      0.50       0.0        0.0  0.035461   \n",
       "2  1.0  0.170213   0.0    0.563636      0.50       0.0        0.0  0.035461   \n",
       "3  1.0  0.163830   0.0    0.454545      0.56       0.0        0.0  0.035461   \n",
       "4  1.0  0.163830   0.0    0.500000      0.52       0.0        0.0  0.035461   \n",
       "\n",
       "   cloud  solar_power  \n",
       "0    0.6          0.0  \n",
       "1    0.0          0.0  \n",
       "2    0.6          0.0  \n",
       "3    0.6          0.0  \n",
       "4    0.6          0.0  "
      ]
     },
     "execution_count": 21,
     "metadata": {},
     "output_type": "execute_result"
    }
   ],
   "source": [
    "df_SJ_no1 = pd.concat([one,df_SJ_no],axis=1)\n",
    "df_SJ_no1.head()"
   ]
  },
  {
   "cell_type": "markdown",
   "id": "33f02b7d",
   "metadata": {},
   "source": [
    "# 데이터 퍼지화 (Fuzzification)\n",
    "- fuzzy로 이루어진 새로운 dataframe 만들기 (diff생성->dataframe)"
   ]
  },
  {
   "cell_type": "markdown",
   "id": "6a273bc9",
   "metadata": {},
   "source": [
    "## diff 함수 만들기"
   ]
  },
  {
   "cell_type": "code",
   "execution_count": 21,
   "id": "75cf545a",
   "metadata": {},
   "outputs": [
    {
     "data": {
      "text/plain": [
       "(26303, 9)"
      ]
     },
     "execution_count": 21,
     "metadata": {},
     "output_type": "execute_result"
    }
   ],
   "source": [
    "df_SJ.shape"
   ]
  },
  {
   "cell_type": "code",
   "execution_count": 22,
   "id": "811ac4ba",
   "metadata": {},
   "outputs": [],
   "source": [
    "def diff(df):\n",
    "    diff = np.zeros((df.shape[0],df.shape[1]))\n",
    "    for i in range(df.shape[0]):\n",
    "        if(i != df.shape[0]-1):\n",
    "            diff[i] = abs((df.iloc[i+1]-df.iloc[i])/2.)\n",
    "        \n",
    "        else:\n",
    "            diff[i]= diff[i-1]\n",
    "    \n",
    "    return diff"
   ]
  },
  {
   "cell_type": "markdown",
   "id": "8c75bf17",
   "metadata": {},
   "source": [
    "## fuzzy 함수 만들기"
   ]
  },
  {
   "cell_type": "code",
   "execution_count": 23,
   "id": "fa387a89",
   "metadata": {},
   "outputs": [],
   "source": [
    "def fuzzy(df):\n",
    "    diff_df = diff(df)\n",
    "    \n",
    "    df_fuzz = np.transpose(np.array([df - diff_df, df, df + diff_df]),(1,2,0))\n",
    "            \n",
    "    return df_fuzz"
   ]
  },
  {
   "cell_type": "markdown",
   "id": "f7bbde22",
   "metadata": {},
   "source": [
    "## fuzzy_T 함수 만들기"
   ]
  },
  {
   "cell_type": "code",
   "execution_count": 24,
   "id": "41087c9e",
   "metadata": {},
   "outputs": [],
   "source": [
    "def fuzzy_T(df):\n",
    "    diff_df = diff(df)\n",
    "    \n",
    "    df_fuzz_T = np.transpose(np.array([df - diff_df, df, df + diff_df]))\n",
    "            \n",
    "    return df_fuzz_T"
   ]
  },
  {
   "cell_type": "markdown",
   "id": "61a055c5",
   "metadata": {},
   "source": [
    "# 유의한 변수들 선택하기"
   ]
  },
  {
   "cell_type": "code",
   "execution_count": 25,
   "id": "ccc7dd9e",
   "metadata": {},
   "outputs": [],
   "source": [
    "import statsmodels.api as sm\n",
    "\n",
    "def print_linear_reg(X, y):\n",
    "\n",
    "    X2 = sm.add_constant(X)  \n",
    "    model = sm.OLS(y, X2)\n",
    "    fitted_model = model.fit()\n",
    "\n",
    "    print(fitted_model.summary())"
   ]
  },
  {
   "cell_type": "code",
   "execution_count": 26,
   "id": "9c332eed",
   "metadata": {
    "scrolled": true
   },
   "outputs": [
    {
     "name": "stdout",
     "output_type": "stream",
     "text": [
      "                            OLS Regression Results                            \n",
      "==============================================================================\n",
      "Dep. Variable:            solar_power   R-squared:                       0.921\n",
      "Model:                            OLS   Adj. R-squared:                  0.921\n",
      "Method:                 Least Squares   F-statistic:                 3.830e+04\n",
      "Date:                Mon, 14 Mar 2022   Prob (F-statistic):               0.00\n",
      "Time:                        00:26:48   Log-Likelihood:                 33449.\n",
      "No. Observations:               26303   AIC:                        -6.688e+04\n",
      "Df Residuals:                   26294   BIC:                        -6.681e+04\n",
      "Df Model:                           8                                         \n",
      "Covariance Type:            nonrobust                                         \n",
      "==============================================================================\n",
      "                 coef    std err          t      P>|t|      [0.025      0.975]\n",
      "------------------------------------------------------------------------------\n",
      "const          0.0047      0.003      1.706      0.088      -0.001       0.010\n",
      "temp           0.0330      0.002     14.506      0.000       0.028       0.037\n",
      "rain          -0.1008      0.043     -2.344      0.019      -0.185      -0.017\n",
      "wind_speed     0.0365      0.003     10.582      0.000       0.030       0.043\n",
      "humidity      -0.0287      0.003     -9.277      0.000      -0.035      -0.023\n",
      "sun_hour      -0.0422      0.002    -22.367      0.000      -0.046      -0.039\n",
      "sun_power      1.0271      0.004    281.645      0.000       1.020       1.034\n",
      "snow          -0.0269      0.007     -3.744      0.000      -0.041      -0.013\n",
      "cloud          0.0087      0.001      7.494      0.000       0.006       0.011\n",
      "==============================================================================\n",
      "Omnibus:                     7743.501   Durbin-Watson:                   0.733\n",
      "Prob(Omnibus):                  0.000   Jarque-Bera (JB):           772427.183\n",
      "Skew:                          -0.385   Prob(JB):                         0.00\n",
      "Kurtosis:                      29.537   Cond. No.                         154.\n",
      "==============================================================================\n",
      "\n",
      "Notes:\n",
      "[1] Standard Errors assume that the covariance matrix of the errors is correctly specified.\n"
     ]
    }
   ],
   "source": [
    "X = df_SJ_no.drop(['solar_power'],axis=1)\n",
    "y = df_SJ_no[['solar_power']]\n",
    "\n",
    "print_linear_reg(X,y)"
   ]
  },
  {
   "cell_type": "markdown",
   "id": "5502ba6e",
   "metadata": {},
   "source": [
    "# 회귀계수 구하기"
   ]
  },
  {
   "cell_type": "markdown",
   "id": "c7f3765c",
   "metadata": {},
   "source": [
    "## diamond 함수 정의 하기"
   ]
  },
  {
   "cell_type": "code",
   "execution_count": 27,
   "id": "83f04140",
   "metadata": {},
   "outputs": [],
   "source": [
    "def fuzzy_op(a,b):\n",
    "    result = 0\n",
    "    for i in range(len(a)):\n",
    "        result += np.dot(a[i],b[i])\n",
    "    return result"
   ]
  },
  {
   "cell_type": "code",
   "execution_count": 28,
   "id": "9972970d",
   "metadata": {},
   "outputs": [],
   "source": [
    "def diamond(a,b):\n",
    "    b_T = np.transpose(b,(1,0,2))\n",
    "    result = np.zeros((np.shape(a)[0],np.shape(b)[1]))\n",
    "    for i in range(np.shape(a)[0]):\n",
    "        for j in range((np.shape(b)[1])):\n",
    "            result[i,j] = fuzzy_op(a[i],b_T[j])\n",
    "    return result"
   ]
  },
  {
   "cell_type": "markdown",
   "id": "c5252832",
   "metadata": {},
   "source": [
    "# 매개분석 START !"
   ]
  },
  {
   "cell_type": "markdown",
   "id": "80abed5c",
   "metadata": {},
   "source": [
    "## [crips] 정규화된 데이터 사용 (Normalization)"
   ]
  },
  {
   "cell_type": "markdown",
   "id": "fe41e4a8",
   "metadata": {},
   "source": [
    "### (STEP1) 독립변수 - 매개변수"
   ]
  },
  {
   "cell_type": "code",
   "execution_count": 27,
   "id": "30e0a37f",
   "metadata": {},
   "outputs": [
    {
     "name": "stdout",
     "output_type": "stream",
     "text": [
      "                            OLS Regression Results                            \n",
      "==============================================================================\n",
      "Dep. Variable:              sun_power   R-squared:                       0.754\n",
      "Model:                            OLS   Adj. R-squared:                  0.754\n",
      "Method:                 Least Squares   F-statistic:                 1.151e+04\n",
      "Date:                Mon, 14 Mar 2022   Prob (F-statistic):               0.00\n",
      "Time:                        00:27:11   Log-Likelihood:                 19631.\n",
      "No. Observations:               26303   AIC:                        -3.925e+04\n",
      "Df Residuals:                   26295   BIC:                        -3.918e+04\n",
      "Df Model:                           7                                         \n",
      "Covariance Type:            nonrobust                                         \n",
      "==============================================================================\n",
      "                 coef    std err          t      P>|t|      [0.025      0.975]\n",
      "------------------------------------------------------------------------------\n",
      "const          0.1065      0.005     23.262      0.000       0.098       0.116\n",
      "temp           0.2014      0.004     55.395      0.000       0.194       0.208\n",
      "rain          -0.6013      0.073     -8.277      0.000      -0.744      -0.459\n",
      "wind_speed     0.1133      0.006     19.551      0.000       0.102       0.125\n",
      "humidity      -0.2552      0.005    -51.072      0.000      -0.265      -0.245\n",
      "sun_hour       0.3598      0.002    156.672      0.000       0.355       0.364\n",
      "snow           0.0629      0.012      5.188      0.000       0.039       0.087\n",
      "cloud          0.0536      0.002     27.680      0.000       0.050       0.057\n",
      "==============================================================================\n",
      "Omnibus:                     1997.094   Durbin-Watson:                   0.470\n",
      "Prob(Omnibus):                  0.000   Jarque-Bera (JB):             6366.245\n",
      "Skew:                           0.378   Prob(JB):                         0.00\n",
      "Kurtosis:                       5.289   Cond. No.                         153.\n",
      "==============================================================================\n",
      "\n",
      "Notes:\n",
      "[1] Standard Errors assume that the covariance matrix of the errors is correctly specified.\n"
     ]
    }
   ],
   "source": [
    "X = df_SJ_no.drop(['sun_power','solar_power'],axis=1)\n",
    "m = df_SJ_no[['sun_power']]\n",
    "\n",
    "print_linear_reg(X,m)"
   ]
  },
  {
   "cell_type": "markdown",
   "id": "84b834b3",
   "metadata": {},
   "source": [
    "### (STEP2) 독립변수 - 종속변수"
   ]
  },
  {
   "cell_type": "code",
   "execution_count": 28,
   "id": "d49ab3c3",
   "metadata": {},
   "outputs": [
    {
     "name": "stdout",
     "output_type": "stream",
     "text": [
      "                            OLS Regression Results                            \n",
      "==============================================================================\n",
      "Dep. Variable:            solar_power   R-squared:                       0.683\n",
      "Model:                            OLS   Adj. R-squared:                  0.682\n",
      "Method:                 Least Squares   F-statistic:                     8076.\n",
      "Date:                Mon, 14 Mar 2022   Prob (F-statistic):               0.00\n",
      "Time:                        00:27:12   Log-Likelihood:                 15162.\n",
      "No. Observations:               26303   AIC:                        -3.031e+04\n",
      "Df Residuals:                   26295   BIC:                        -3.024e+04\n",
      "Df Model:                           7                                         \n",
      "Covariance Type:            nonrobust                                         \n",
      "==============================================================================\n",
      "                 coef    std err          t      P>|t|      [0.025      0.975]\n",
      "------------------------------------------------------------------------------\n",
      "const          0.1141      0.005     21.019      0.000       0.103       0.125\n",
      "temp           0.2398      0.004     55.655      0.000       0.231       0.248\n",
      "rain          -0.7184      0.086     -8.345      0.000      -0.887      -0.550\n",
      "wind_speed     0.1530      0.007     22.262      0.000       0.139       0.166\n",
      "humidity      -0.2909      0.006    -49.114      0.000      -0.303      -0.279\n",
      "sun_hour       0.3274      0.003    120.258      0.000       0.322       0.333\n",
      "snow           0.0378      0.014      2.627      0.009       0.010       0.066\n",
      "cloud          0.0637      0.002     27.781      0.000       0.059       0.068\n",
      "==============================================================================\n",
      "Omnibus:                     2045.442   Durbin-Watson:                   0.494\n",
      "Prob(Omnibus):                  0.000   Jarque-Bera (JB):             5191.144\n",
      "Skew:                           0.461   Prob(JB):                         0.00\n",
      "Kurtosis:                       4.972   Cond. No.                         153.\n",
      "==============================================================================\n",
      "\n",
      "Notes:\n",
      "[1] Standard Errors assume that the covariance matrix of the errors is correctly specified.\n"
     ]
    }
   ],
   "source": [
    "X = df_SJ_no.drop(['sun_power','solar_power'],axis=1)\n",
    "y = df_SJ_no[['solar_power']]\n",
    "\n",
    "print_linear_reg(X,y)"
   ]
  },
  {
   "cell_type": "markdown",
   "id": "04d1f3e7",
   "metadata": {},
   "source": [
    "### (STEP3) 독립변수+매개변수 - 종속변수"
   ]
  },
  {
   "cell_type": "code",
   "execution_count": 29,
   "id": "7429e044",
   "metadata": {},
   "outputs": [
    {
     "name": "stdout",
     "output_type": "stream",
     "text": [
      "                            OLS Regression Results                            \n",
      "==============================================================================\n",
      "Dep. Variable:            solar_power   R-squared:                       0.921\n",
      "Model:                            OLS   Adj. R-squared:                  0.921\n",
      "Method:                 Least Squares   F-statistic:                 3.830e+04\n",
      "Date:                Mon, 14 Mar 2022   Prob (F-statistic):               0.00\n",
      "Time:                        00:27:16   Log-Likelihood:                 33449.\n",
      "No. Observations:               26303   AIC:                        -6.688e+04\n",
      "Df Residuals:                   26294   BIC:                        -6.681e+04\n",
      "Df Model:                           8                                         \n",
      "Covariance Type:            nonrobust                                         \n",
      "==============================================================================\n",
      "                 coef    std err          t      P>|t|      [0.025      0.975]\n",
      "------------------------------------------------------------------------------\n",
      "const          0.0047      0.003      1.706      0.088      -0.001       0.010\n",
      "temp           0.0330      0.002     14.506      0.000       0.028       0.037\n",
      "rain          -0.1008      0.043     -2.344      0.019      -0.185      -0.017\n",
      "wind_speed     0.0365      0.003     10.582      0.000       0.030       0.043\n",
      "humidity      -0.0287      0.003     -9.277      0.000      -0.035      -0.023\n",
      "sun_hour      -0.0422      0.002    -22.367      0.000      -0.046      -0.039\n",
      "sun_power      1.0271      0.004    281.645      0.000       1.020       1.034\n",
      "snow          -0.0269      0.007     -3.744      0.000      -0.041      -0.013\n",
      "cloud          0.0087      0.001      7.494      0.000       0.006       0.011\n",
      "==============================================================================\n",
      "Omnibus:                     7743.501   Durbin-Watson:                   0.733\n",
      "Prob(Omnibus):                  0.000   Jarque-Bera (JB):           772427.183\n",
      "Skew:                          -0.385   Prob(JB):                         0.00\n",
      "Kurtosis:                      29.537   Cond. No.                         154.\n",
      "==============================================================================\n",
      "\n",
      "Notes:\n",
      "[1] Standard Errors assume that the covariance matrix of the errors is correctly specified.\n"
     ]
    }
   ],
   "source": [
    "X.m = df_SJ_no.drop(['solar_power'],axis=1)\n",
    "y = df_SJ_no[['solar_power']]\n",
    "\n",
    "print_linear_reg(X.m,y)"
   ]
  },
  {
   "cell_type": "markdown",
   "id": "39981dc2",
   "metadata": {},
   "source": [
    "## [fuzzy] 정규화된 데이터 사용 (Normalization)"
   ]
  },
  {
   "cell_type": "markdown",
   "id": "dec93730",
   "metadata": {},
   "source": [
    "### (STEP1) 독립변수 - 매개변수"
   ]
  },
  {
   "cell_type": "code",
   "execution_count": 29,
   "id": "1a860b4b",
   "metadata": {},
   "outputs": [],
   "source": [
    "X_no = df_SJ_no1.drop(['sun_power','solar_power'],axis=1)\n",
    "m_no = df_SJ_no1[['sun_power']]"
   ]
  },
  {
   "cell_type": "code",
   "execution_count": 30,
   "id": "1b903ef3",
   "metadata": {},
   "outputs": [],
   "source": [
    "X_no_fuzzy = fuzzy(X_no)\n",
    "X_no_fuzzy_T = fuzzy_T(X_no)\n",
    "m_no_fuzzy = fuzzy(m_no)"
   ]
  },
  {
   "cell_type": "code",
   "execution_count": 31,
   "id": "5000e6c1",
   "metadata": {},
   "outputs": [
    {
     "data": {
      "text/plain": [
       "array([[ 0.10388678],\n",
       "       [ 0.2083644 ],\n",
       "       [-0.48655706],\n",
       "       [ 0.13014934],\n",
       "       [-0.25424055],\n",
       "       [ 0.35015019],\n",
       "       [ 0.06701723],\n",
       "       [ 0.04718437]])"
      ]
     },
     "execution_count": 31,
     "metadata": {},
     "output_type": "execute_result"
    }
   ],
   "source": [
    "np.dot(np.linalg.inv(diamond(X_no_fuzzy_T,X_no_fuzzy)),diamond(X_no_fuzzy_T,m_no_fuzzy))"
   ]
  },
  {
   "cell_type": "code",
   "execution_count": 32,
   "id": "1cfc680d",
   "metadata": {},
   "outputs": [
    {
     "data": {
      "text/plain": [
       "array([ 0.10388678,  0.2083644 , -0.48655706,  0.13014934, -0.25424055,\n",
       "        0.35015019,  0.06701723,  0.04718437])"
      ]
     },
     "execution_count": 32,
     "metadata": {},
     "output_type": "execute_result"
    }
   ],
   "source": [
    "beta_X_to_m = np.ravel(np.dot(np.linalg.inv(diamond(X_no_fuzzy_T,X_no_fuzzy)),diamond(X_no_fuzzy_T,m_no_fuzzy)))\n",
    "beta_X_to_m"
   ]
  },
  {
   "cell_type": "markdown",
   "id": "32f738e2",
   "metadata": {},
   "source": [
    "### (STEP2) 독립변수 - 종속변수"
   ]
  },
  {
   "cell_type": "code",
   "execution_count": 33,
   "id": "f171ed96",
   "metadata": {},
   "outputs": [],
   "source": [
    "X_no = df_SJ_no1.drop(['sun_power','solar_power'],axis=1)\n",
    "y_no = df_SJ_no1[['solar_power']]"
   ]
  },
  {
   "cell_type": "code",
   "execution_count": 34,
   "id": "7e0c5066",
   "metadata": {},
   "outputs": [],
   "source": [
    "y_no_fuzzy = fuzzy(y_no)"
   ]
  },
  {
   "cell_type": "code",
   "execution_count": 35,
   "id": "c7234b97",
   "metadata": {},
   "outputs": [
    {
     "data": {
      "text/plain": [
       "array([[ 0.11211071],\n",
       "       [ 0.24783213],\n",
       "       [-0.58494541],\n",
       "       [ 0.17042942],\n",
       "       [-0.29065783],\n",
       "       [ 0.31638586],\n",
       "       [ 0.04277077],\n",
       "       [ 0.05620097]])"
      ]
     },
     "execution_count": 35,
     "metadata": {},
     "output_type": "execute_result"
    }
   ],
   "source": [
    "np.dot(np.linalg.inv(diamond(X_no_fuzzy_T,X_no_fuzzy)),diamond(X_no_fuzzy_T,y_no_fuzzy))"
   ]
  },
  {
   "cell_type": "code",
   "execution_count": 36,
   "id": "61864e0e",
   "metadata": {},
   "outputs": [
    {
     "data": {
      "text/plain": [
       "array([ 0.11211071,  0.24783213, -0.58494541,  0.17042942, -0.29065783,\n",
       "        0.31638586,  0.04277077,  0.05620097])"
      ]
     },
     "execution_count": 36,
     "metadata": {},
     "output_type": "execute_result"
    }
   ],
   "source": [
    "beta_X_to_y = np.ravel(np.dot(np.linalg.inv(diamond(X_no_fuzzy_T,X_no_fuzzy)),diamond(X_no_fuzzy_T,y_no_fuzzy)))\n",
    "beta_X_to_y"
   ]
  },
  {
   "cell_type": "markdown",
   "id": "5999ad44",
   "metadata": {},
   "source": [
    "### (STEP3) 독립변수+매개변수 - 종속변수"
   ]
  },
  {
   "cell_type": "code",
   "execution_count": 37,
   "id": "c6582394",
   "metadata": {},
   "outputs": [],
   "source": [
    "X.m_no = df_SJ_no1.drop(['solar_power'],axis=1)\n",
    "y_no = df_SJ_no1[['solar_power']]"
   ]
  },
  {
   "cell_type": "code",
   "execution_count": 38,
   "id": "3626b581",
   "metadata": {},
   "outputs": [],
   "source": [
    "X.m_no_fuzzy = fuzzy(X.m_no)\n",
    "X.m_no_fuzzy_T = fuzzy_T(X.m_no)"
   ]
  },
  {
   "cell_type": "code",
   "execution_count": 39,
   "id": "ccbc0439",
   "metadata": {
    "scrolled": true
   },
   "outputs": [
    {
     "data": {
      "text/plain": [
       "array([[ 0.00597489],\n",
       "       [ 0.03495684],\n",
       "       [-0.08785485],\n",
       "       [ 0.03746247],\n",
       "       [-0.03091321],\n",
       "       [-0.04134475],\n",
       "       [ 1.02164904],\n",
       "       [-0.02569732],\n",
       "       [ 0.0079951 ]])"
      ]
     },
     "execution_count": 39,
     "metadata": {},
     "output_type": "execute_result"
    }
   ],
   "source": [
    "np.dot(np.linalg.inv(diamond(X.m_no_fuzzy_T,X.m_no_fuzzy)),diamond(X.m_no_fuzzy_T,y_no_fuzzy))"
   ]
  },
  {
   "cell_type": "code",
   "execution_count": 40,
   "id": "b0864bf9",
   "metadata": {
    "scrolled": false
   },
   "outputs": [
    {
     "data": {
      "text/plain": [
       "array([ 0.00597489,  0.03495684, -0.08785485,  0.03746247, -0.03091321,\n",
       "       -0.04134475,  1.02164904, -0.02569732,  0.0079951 ])"
      ]
     },
     "execution_count": 40,
     "metadata": {},
     "output_type": "execute_result"
    }
   ],
   "source": [
    "beta_Xm_to_y = np.ravel(np.dot(np.linalg.inv(diamond(X.m_no_fuzzy_T,X.m_no_fuzzy)),diamond(X.m_no_fuzzy_T,y_no_fuzzy)))\n",
    "beta_Xm_to_y"
   ]
  },
  {
   "cell_type": "markdown",
   "id": "4262d6a2",
   "metadata": {},
   "source": [
    "# CI 구하기"
   ]
  },
  {
   "cell_type": "markdown",
   "id": "b45d44dc",
   "metadata": {},
   "source": [
    "## total effect 구하기"
   ]
  },
  {
   "cell_type": "code",
   "execution_count": 41,
   "id": "8a062496",
   "metadata": {},
   "outputs": [],
   "source": [
    "import statsmodels.api as sm\n",
    "\n",
    "def linear_reg(X, y):\n",
    "    X2 = sm.add_constant(X)  \n",
    "    model = sm.OLS(y, X2)\n",
    "    fitted_model = model.fit()\n",
    "    return fitted_model"
   ]
  },
  {
   "cell_type": "code",
   "execution_count": 42,
   "id": "2f48d954",
   "metadata": {},
   "outputs": [],
   "source": [
    "total_CMA = - 0.187\n",
    "direct_CMA = - 0.120\n",
    "indirect_CMA = -0.067\n",
    "\n",
    "total_FMA = -0.043\n",
    "direct_FMA = -0.105\n",
    "indirect_FMA = 0.062"
   ]
  },
  {
   "cell_type": "code",
   "execution_count": 43,
   "id": "a06ee7c7",
   "metadata": {},
   "outputs": [],
   "source": [
    "X.m_no = df_SJ_no.drop(['solar_power'],axis=1)\n",
    "X.m_no_fuzzy = fuzzy(X.m_no)"
   ]
  },
  {
   "cell_type": "code",
   "execution_count": 44,
   "id": "04547be0",
   "metadata": {},
   "outputs": [],
   "source": [
    "n = len(X.m_no)"
   ]
  },
  {
   "cell_type": "markdown",
   "id": "a71e8d1c",
   "metadata": {},
   "source": [
    "### CMA_total effect"
   ]
  },
  {
   "cell_type": "code",
   "execution_count": 45,
   "id": "d56440e0",
   "metadata": {},
   "outputs": [],
   "source": [
    "### CSD, CSE 구하기 \n",
    "# CSD = np.sqrt(((X.m_no - X.m_no.mean(axis=0))**2).sum()/(n-1))\n",
    "# CSE = CSD / np.sqrt(n)\n",
    "\n",
    "#pd.DataFrame((CSD,CSE),columns = X.m_no.columns,index = ['CSD','CSE'])"
   ]
  },
  {
   "cell_type": "code",
   "execution_count": 46,
   "id": "f0995757",
   "metadata": {
    "scrolled": true
   },
   "outputs": [
    {
     "data": {
      "text/plain": [
       "temp          0.002272\n",
       "rain          0.043013\n",
       "wind_speed    0.003453\n",
       "humidity      0.003099\n",
       "sun_hour      0.001889\n",
       "sun_power     0.003647\n",
       "snow          0.007176\n",
       "cloud         0.001161\n",
       "dtype: float64"
      ]
     },
     "execution_count": 46,
     "metadata": {},
     "output_type": "execute_result"
    }
   ],
   "source": [
    "# CSE 구하기\n",
    "CSE = linear_reg(X.m_no,y_no).bse[1:]# result.bse : OLS에서 회귀계수 표준오차\n",
    "CSE"
   ]
  },
  {
   "cell_type": "code",
   "execution_count": 47,
   "id": "2e55e396",
   "metadata": {
    "scrolled": true
   },
   "outputs": [
    {
     "data": {
      "text/html": [
       "<div>\n",
       "<style scoped>\n",
       "    .dataframe tbody tr th:only-of-type {\n",
       "        vertical-align: middle;\n",
       "    }\n",
       "\n",
       "    .dataframe tbody tr th {\n",
       "        vertical-align: top;\n",
       "    }\n",
       "\n",
       "    .dataframe thead th {\n",
       "        text-align: right;\n",
       "    }\n",
       "</style>\n",
       "<table border=\"1\" class=\"dataframe\">\n",
       "  <thead>\n",
       "    <tr style=\"text-align: right;\">\n",
       "      <th></th>\n",
       "      <th>temp</th>\n",
       "      <th>rain</th>\n",
       "      <th>wind_speed</th>\n",
       "      <th>humidity</th>\n",
       "      <th>sun_hour</th>\n",
       "      <th>sun_power</th>\n",
       "      <th>snow</th>\n",
       "      <th>cloud</th>\n",
       "    </tr>\n",
       "  </thead>\n",
       "  <tbody>\n",
       "    <tr>\n",
       "      <th>lower</th>\n",
       "      <td>-0.191453</td>\n",
       "      <td>-0.271305</td>\n",
       "      <td>-0.193768</td>\n",
       "      <td>-0.193073</td>\n",
       "      <td>-0.190702</td>\n",
       "      <td>-0.194148</td>\n",
       "      <td>-2.010648e-01</td>\n",
       "      <td>-0.189276</td>\n",
       "    </tr>\n",
       "    <tr>\n",
       "      <th>upper</th>\n",
       "      <td>-0.182547</td>\n",
       "      <td>-0.102695</td>\n",
       "      <td>-0.180232</td>\n",
       "      <td>-0.180927</td>\n",
       "      <td>-0.183298</td>\n",
       "      <td>-0.179852</td>\n",
       "      <td>-1.729352e-01</td>\n",
       "      <td>-0.184724</td>\n",
       "    </tr>\n",
       "    <tr>\n",
       "      <th>z(t)</th>\n",
       "      <td>-82.317753</td>\n",
       "      <td>-4.347528</td>\n",
       "      <td>-54.154873</td>\n",
       "      <td>-60.349224</td>\n",
       "      <td>-99.014417</td>\n",
       "      <td>-51.276577</td>\n",
       "      <td>-2.605935e+01</td>\n",
       "      <td>-161.047904</td>\n",
       "    </tr>\n",
       "    <tr>\n",
       "      <th>p-value</th>\n",
       "      <td>0.000000</td>\n",
       "      <td>0.000014</td>\n",
       "      <td>0.000000</td>\n",
       "      <td>0.000000</td>\n",
       "      <td>0.000000</td>\n",
       "      <td>0.000000</td>\n",
       "      <td>1.054086e-149</td>\n",
       "      <td>0.000000</td>\n",
       "    </tr>\n",
       "  </tbody>\n",
       "</table>\n",
       "</div>"
      ],
      "text/plain": [
       "              temp      rain  wind_speed   humidity   sun_hour  sun_power  \\\n",
       "lower    -0.191453 -0.271305   -0.193768  -0.193073  -0.190702  -0.194148   \n",
       "upper    -0.182547 -0.102695   -0.180232  -0.180927  -0.183298  -0.179852   \n",
       "z(t)    -82.317753 -4.347528  -54.154873 -60.349224 -99.014417 -51.276577   \n",
       "p-value   0.000000  0.000014    0.000000   0.000000   0.000000   0.000000   \n",
       "\n",
       "                  snow       cloud  \n",
       "lower    -2.010648e-01   -0.189276  \n",
       "upper    -1.729352e-01   -0.184724  \n",
       "z(t)     -2.605935e+01 -161.047904  \n",
       "p-value  1.054086e-149    0.000000  "
      ]
     },
     "execution_count": 47,
     "metadata": {},
     "output_type": "execute_result"
    }
   ],
   "source": [
    "### total effect 95% 신뢰구간\n",
    "\n",
    "CI = pd.DataFrame((total_CMA - 1.96*CSE, total_CMA + 1.96*CSE),\n",
    "             columns = X.m_no.columns,\n",
    "             index = ['lower','upper'])\n",
    "\n",
    "### z(t) & p-value\n",
    "import scipy.stats as stats\n",
    "ZP = pd.DataFrame((np.array(total_CMA/CSE), 2*stats.norm(0, 1).cdf(total_CMA/CSE)),\n",
    "            columns = X.m_no.columns,\n",
    "            index= ['z(t)','p-value'])\n",
    "\n",
    "pd.concat([CI,ZP])"
   ]
  },
  {
   "cell_type": "markdown",
   "id": "43585f48",
   "metadata": {},
   "source": [
    "### FMA_total effect"
   ]
  },
  {
   "cell_type": "code",
   "execution_count": 48,
   "id": "92153b69",
   "metadata": {},
   "outputs": [
    {
     "data": {
      "text/html": [
       "<div>\n",
       "<style scoped>\n",
       "    .dataframe tbody tr th:only-of-type {\n",
       "        vertical-align: middle;\n",
       "    }\n",
       "\n",
       "    .dataframe tbody tr th {\n",
       "        vertical-align: top;\n",
       "    }\n",
       "\n",
       "    .dataframe thead th {\n",
       "        text-align: right;\n",
       "    }\n",
       "</style>\n",
       "<table border=\"1\" class=\"dataframe\">\n",
       "  <thead>\n",
       "    <tr style=\"text-align: right;\">\n",
       "      <th></th>\n",
       "      <th>temp</th>\n",
       "      <th>rain</th>\n",
       "      <th>wind_speed</th>\n",
       "      <th>humidity</th>\n",
       "      <th>sun_hour</th>\n",
       "      <th>sun_power</th>\n",
       "      <th>snow</th>\n",
       "      <th>cloud</th>\n",
       "    </tr>\n",
       "  </thead>\n",
       "  <tbody>\n",
       "    <tr>\n",
       "      <th>FSD</th>\n",
       "      <td>0.380161</td>\n",
       "      <td>0.019019</td>\n",
       "      <td>0.247982</td>\n",
       "      <td>0.329269</td>\n",
       "      <td>0.734083</td>\n",
       "      <td>0.403607</td>\n",
       "      <td>0.104882</td>\n",
       "      <td>0.721016</td>\n",
       "    </tr>\n",
       "    <tr>\n",
       "      <th>FSE</th>\n",
       "      <td>0.002344</td>\n",
       "      <td>0.000117</td>\n",
       "      <td>0.001529</td>\n",
       "      <td>0.002030</td>\n",
       "      <td>0.004526</td>\n",
       "      <td>0.002489</td>\n",
       "      <td>0.000647</td>\n",
       "      <td>0.004446</td>\n",
       "    </tr>\n",
       "  </tbody>\n",
       "</table>\n",
       "</div>"
      ],
      "text/plain": [
       "         temp      rain  wind_speed  humidity  sun_hour  sun_power      snow  \\\n",
       "FSD  0.380161  0.019019    0.247982  0.329269  0.734083   0.403607  0.104882   \n",
       "FSE  0.002344  0.000117    0.001529  0.002030  0.004526   0.002489  0.000647   \n",
       "\n",
       "        cloud  \n",
       "FSD  0.721016  \n",
       "FSE  0.004446  "
      ]
     },
     "execution_count": 48,
     "metadata": {},
     "output_type": "execute_result"
    }
   ],
   "source": [
    "### FSD, FSE 구하기 \n",
    "FSD = np.sqrt(((X.m_no_fuzzy - X.m_no_fuzzy.mean(axis=0))**2).sum(axis=-1).sum(axis=0)/(n-1))\n",
    "FSE = FSD/np.sqrt(n)\n",
    "\n",
    "pd.DataFrame((FSD,FSE),columns = X.m_no.columns,index = ['FSD','FSE'])"
   ]
  },
  {
   "cell_type": "code",
   "execution_count": 49,
   "id": "249201b6",
   "metadata": {
    "scrolled": true
   },
   "outputs": [
    {
     "data": {
      "text/html": [
       "<div>\n",
       "<style scoped>\n",
       "    .dataframe tbody tr th:only-of-type {\n",
       "        vertical-align: middle;\n",
       "    }\n",
       "\n",
       "    .dataframe tbody tr th {\n",
       "        vertical-align: top;\n",
       "    }\n",
       "\n",
       "    .dataframe thead th {\n",
       "        text-align: right;\n",
       "    }\n",
       "</style>\n",
       "<table border=\"1\" class=\"dataframe\">\n",
       "  <thead>\n",
       "    <tr style=\"text-align: right;\">\n",
       "      <th></th>\n",
       "      <th>temp</th>\n",
       "      <th>rain</th>\n",
       "      <th>wind_speed</th>\n",
       "      <th>humidity</th>\n",
       "      <th>sun_hour</th>\n",
       "      <th>sun_power</th>\n",
       "      <th>snow</th>\n",
       "      <th>cloud</th>\n",
       "    </tr>\n",
       "  </thead>\n",
       "  <tbody>\n",
       "    <tr>\n",
       "      <th>lower</th>\n",
       "      <td>-4.759431e-02</td>\n",
       "      <td>-0.043230</td>\n",
       "      <td>-4.599691e-02</td>\n",
       "      <td>-4.697927e-02</td>\n",
       "      <td>-5.187153e-02</td>\n",
       "      <td>-4.787767e-02</td>\n",
       "      <td>-0.044268</td>\n",
       "      <td>-5.171361e-02</td>\n",
       "    </tr>\n",
       "    <tr>\n",
       "      <th>upper</th>\n",
       "      <td>-3.840569e-02</td>\n",
       "      <td>-0.042770</td>\n",
       "      <td>-4.000309e-02</td>\n",
       "      <td>-3.902073e-02</td>\n",
       "      <td>-3.412847e-02</td>\n",
       "      <td>-3.812233e-02</td>\n",
       "      <td>-0.041732</td>\n",
       "      <td>-3.428639e-02</td>\n",
       "    </tr>\n",
       "    <tr>\n",
       "      <th>z(t)</th>\n",
       "      <td>-1.834442e+01</td>\n",
       "      <td>-366.673084</td>\n",
       "      <td>-2.812230e+01</td>\n",
       "      <td>-2.117975e+01</td>\n",
       "      <td>-9.500052e+00</td>\n",
       "      <td>-1.727874e+01</td>\n",
       "      <td>-66.492140</td>\n",
       "      <td>-9.672223e+00</td>\n",
       "    </tr>\n",
       "    <tr>\n",
       "      <th>p-value</th>\n",
       "      <td>3.658255e-75</td>\n",
       "      <td>0.000000</td>\n",
       "      <td>5.229337e-174</td>\n",
       "      <td>1.468018e-99</td>\n",
       "      <td>2.097858e-21</td>\n",
       "      <td>6.801369e-67</td>\n",
       "      <td>0.000000</td>\n",
       "      <td>3.956878e-22</td>\n",
       "    </tr>\n",
       "  </tbody>\n",
       "</table>\n",
       "</div>"
      ],
      "text/plain": [
       "                 temp        rain     wind_speed      humidity      sun_hour  \\\n",
       "lower   -4.759431e-02   -0.043230  -4.599691e-02 -4.697927e-02 -5.187153e-02   \n",
       "upper   -3.840569e-02   -0.042770  -4.000309e-02 -3.902073e-02 -3.412847e-02   \n",
       "z(t)    -1.834442e+01 -366.673084  -2.812230e+01 -2.117975e+01 -9.500052e+00   \n",
       "p-value  3.658255e-75    0.000000  5.229337e-174  1.468018e-99  2.097858e-21   \n",
       "\n",
       "            sun_power       snow         cloud  \n",
       "lower   -4.787767e-02  -0.044268 -5.171361e-02  \n",
       "upper   -3.812233e-02  -0.041732 -3.428639e-02  \n",
       "z(t)    -1.727874e+01 -66.492140 -9.672223e+00  \n",
       "p-value  6.801369e-67   0.000000  3.956878e-22  "
      ]
     },
     "execution_count": 49,
     "metadata": {},
     "output_type": "execute_result"
    }
   ],
   "source": [
    "### total effect 95% 신뢰구간\n",
    "\n",
    "CI = pd.DataFrame((total_FMA - 1.96*FSE, total_FMA + 1.96*FSE),\n",
    "             columns = X.m_no.columns,\n",
    "             index = ['lower','upper'])\n",
    "\n",
    "### z(t) & p-value\n",
    "import scipy.stats as stats\n",
    "ZP = pd.DataFrame((np.array(total_FMA/FSE), 2*stats.norm(0, 1).cdf(total_FMA/FSE)),\n",
    "            columns = X.m_no.columns,\n",
    "            index= ['z(t)','p-value'])\n",
    "\n",
    "pd.concat([CI,ZP])"
   ]
  },
  {
   "cell_type": "markdown",
   "id": "fe4e3a4a",
   "metadata": {},
   "source": [
    "## direct effect 구하기"
   ]
  },
  {
   "cell_type": "code",
   "execution_count": 50,
   "id": "b35e89d9",
   "metadata": {},
   "outputs": [],
   "source": [
    "X_no = df_SJ_no.drop(['sun_power','solar_power'],axis=1)\n",
    "X_no_fuzzy = fuzzy(X_no)"
   ]
  },
  {
   "cell_type": "markdown",
   "id": "2b9cfe86",
   "metadata": {},
   "source": [
    "### CMA_direct effect"
   ]
  },
  {
   "cell_type": "code",
   "execution_count": 51,
   "id": "b1a4948b",
   "metadata": {
    "scrolled": false
   },
   "outputs": [],
   "source": [
    "### CSD, CSE 구하기 \n",
    "# CSD = np.sqrt(((X_no - X_no.mean(axis=0))**2).sum()/(n-1))\n",
    "#CSD = np.std(X_no,ddof=1)\n",
    "#CSE = CSD / np.sqrt(n)\n",
    "\n",
    "#pd.DataFrame((CSD,CSE),columns = X_no.columns,index = ['CSD','CSE'])"
   ]
  },
  {
   "cell_type": "code",
   "execution_count": 52,
   "id": "652143fe",
   "metadata": {},
   "outputs": [
    {
     "data": {
      "text/plain": [
       "temp          0.004308\n",
       "rain          0.086093\n",
       "wind_speed    0.006871\n",
       "humidity      0.005923\n",
       "sun_hour      0.002722\n",
       "snow          0.014374\n",
       "cloud         0.002294\n",
       "dtype: float64"
      ]
     },
     "execution_count": 52,
     "metadata": {},
     "output_type": "execute_result"
    }
   ],
   "source": [
    "# CSE 구하기\n",
    "CSE = linear_reg(X_no,y_no).bse[1:]# result.bse : OLS에서 회귀계수 표준오차\n",
    "CSE"
   ]
  },
  {
   "cell_type": "code",
   "execution_count": 53,
   "id": "4365675e",
   "metadata": {
    "scrolled": true
   },
   "outputs": [
    {
     "data": {
      "text/html": [
       "<div>\n",
       "<style scoped>\n",
       "    .dataframe tbody tr th:only-of-type {\n",
       "        vertical-align: middle;\n",
       "    }\n",
       "\n",
       "    .dataframe tbody tr th {\n",
       "        vertical-align: top;\n",
       "    }\n",
       "\n",
       "    .dataframe thead th {\n",
       "        text-align: right;\n",
       "    }\n",
       "</style>\n",
       "<table border=\"1\" class=\"dataframe\">\n",
       "  <thead>\n",
       "    <tr style=\"text-align: right;\">\n",
       "      <th></th>\n",
       "      <th>temp</th>\n",
       "      <th>rain</th>\n",
       "      <th>wind_speed</th>\n",
       "      <th>humidity</th>\n",
       "      <th>sun_hour</th>\n",
       "      <th>snow</th>\n",
       "      <th>cloud</th>\n",
       "    </tr>\n",
       "  </thead>\n",
       "  <tbody>\n",
       "    <tr>\n",
       "      <th>lower</th>\n",
       "      <td>-1.284444e-01</td>\n",
       "      <td>-0.288742</td>\n",
       "      <td>-1.334666e-01</td>\n",
       "      <td>-1.316097e-01</td>\n",
       "      <td>-0.125335</td>\n",
       "      <td>-1.481737e-01</td>\n",
       "      <td>-0.124496</td>\n",
       "    </tr>\n",
       "    <tr>\n",
       "      <th>upper</th>\n",
       "      <td>-1.115556e-01</td>\n",
       "      <td>0.048742</td>\n",
       "      <td>-1.065334e-01</td>\n",
       "      <td>-1.083903e-01</td>\n",
       "      <td>-0.114665</td>\n",
       "      <td>-9.182631e-02</td>\n",
       "      <td>-0.115504</td>\n",
       "    </tr>\n",
       "    <tr>\n",
       "      <th>z(t)</th>\n",
       "      <td>-2.785283e+01</td>\n",
       "      <td>-1.393848</td>\n",
       "      <td>-1.746543e+01</td>\n",
       "      <td>-2.025897e+01</td>\n",
       "      <td>-44.083580</td>\n",
       "      <td>-8.348213e+00</td>\n",
       "      <td>-52.311808</td>\n",
       "    </tr>\n",
       "    <tr>\n",
       "      <th>p-value</th>\n",
       "      <td>9.953364e-171</td>\n",
       "      <td>0.163364</td>\n",
       "      <td>2.627081e-68</td>\n",
       "      <td>2.960911e-91</td>\n",
       "      <td>0.000000</td>\n",
       "      <td>6.930324e-17</td>\n",
       "      <td>0.000000</td>\n",
       "    </tr>\n",
       "  </tbody>\n",
       "</table>\n",
       "</div>"
      ],
      "text/plain": [
       "                  temp      rain    wind_speed      humidity   sun_hour  \\\n",
       "lower    -1.284444e-01 -0.288742 -1.334666e-01 -1.316097e-01  -0.125335   \n",
       "upper    -1.115556e-01  0.048742 -1.065334e-01 -1.083903e-01  -0.114665   \n",
       "z(t)     -2.785283e+01 -1.393848 -1.746543e+01 -2.025897e+01 -44.083580   \n",
       "p-value  9.953364e-171  0.163364  2.627081e-68  2.960911e-91   0.000000   \n",
       "\n",
       "                 snow      cloud  \n",
       "lower   -1.481737e-01  -0.124496  \n",
       "upper   -9.182631e-02  -0.115504  \n",
       "z(t)    -8.348213e+00 -52.311808  \n",
       "p-value  6.930324e-17   0.000000  "
      ]
     },
     "execution_count": 53,
     "metadata": {},
     "output_type": "execute_result"
    }
   ],
   "source": [
    "### total effect 95% 신뢰구간\n",
    "\n",
    "CI = pd.DataFrame((direct_CMA - 1.96*CSE, direct_CMA + 1.96*CSE),\n",
    "             columns = X_no.columns,\n",
    "             index = ['lower','upper'])\n",
    "\n",
    "### z(t) & p-value\n",
    "import scipy.stats as stats\n",
    "ZP = pd.DataFrame((np.array(direct_CMA/CSE), 2*stats.norm(0, 1).cdf(direct_CMA/CSE)),\n",
    "            columns = X_no.columns,\n",
    "            index= ['z(t)','p-value'])\n",
    "\n",
    "pd.concat([CI,ZP])"
   ]
  },
  {
   "cell_type": "markdown",
   "id": "6bc28d3f",
   "metadata": {},
   "source": [
    "### FMA_direct effect"
   ]
  },
  {
   "cell_type": "code",
   "execution_count": 54,
   "id": "accdd144",
   "metadata": {},
   "outputs": [
    {
     "data": {
      "text/html": [
       "<div>\n",
       "<style scoped>\n",
       "    .dataframe tbody tr th:only-of-type {\n",
       "        vertical-align: middle;\n",
       "    }\n",
       "\n",
       "    .dataframe tbody tr th {\n",
       "        vertical-align: top;\n",
       "    }\n",
       "\n",
       "    .dataframe thead th {\n",
       "        text-align: right;\n",
       "    }\n",
       "</style>\n",
       "<table border=\"1\" class=\"dataframe\">\n",
       "  <thead>\n",
       "    <tr style=\"text-align: right;\">\n",
       "      <th></th>\n",
       "      <th>temp</th>\n",
       "      <th>rain</th>\n",
       "      <th>wind_speed</th>\n",
       "      <th>humidity</th>\n",
       "      <th>sun_hour</th>\n",
       "      <th>snow</th>\n",
       "      <th>cloud</th>\n",
       "    </tr>\n",
       "  </thead>\n",
       "  <tbody>\n",
       "    <tr>\n",
       "      <th>FSD</th>\n",
       "      <td>0.380161</td>\n",
       "      <td>0.019019</td>\n",
       "      <td>0.247982</td>\n",
       "      <td>0.329269</td>\n",
       "      <td>0.734083</td>\n",
       "      <td>0.104882</td>\n",
       "      <td>0.721016</td>\n",
       "    </tr>\n",
       "    <tr>\n",
       "      <th>FSE</th>\n",
       "      <td>0.002344</td>\n",
       "      <td>0.000117</td>\n",
       "      <td>0.001529</td>\n",
       "      <td>0.002030</td>\n",
       "      <td>0.004526</td>\n",
       "      <td>0.000647</td>\n",
       "      <td>0.004446</td>\n",
       "    </tr>\n",
       "  </tbody>\n",
       "</table>\n",
       "</div>"
      ],
      "text/plain": [
       "         temp      rain  wind_speed  humidity  sun_hour      snow     cloud\n",
       "FSD  0.380161  0.019019    0.247982  0.329269  0.734083  0.104882  0.721016\n",
       "FSE  0.002344  0.000117    0.001529  0.002030  0.004526  0.000647  0.004446"
      ]
     },
     "execution_count": 54,
     "metadata": {},
     "output_type": "execute_result"
    }
   ],
   "source": [
    "### FSD, FSE 구하기 \n",
    "FSD = np.sqrt(((X_no_fuzzy - X_no_fuzzy.mean(axis=0))**2).sum(axis=-1).sum(axis=0)/(n-1))\n",
    "FSE = FSD/np.sqrt(n)\n",
    "\n",
    "pd.DataFrame((FSD,FSE),columns = X_no.columns,index = ['FSD','FSE'])"
   ]
  },
  {
   "cell_type": "code",
   "execution_count": 55,
   "id": "349fe8e1",
   "metadata": {
    "scrolled": true
   },
   "outputs": [
    {
     "data": {
      "text/html": [
       "<div>\n",
       "<style scoped>\n",
       "    .dataframe tbody tr th:only-of-type {\n",
       "        vertical-align: middle;\n",
       "    }\n",
       "\n",
       "    .dataframe tbody tr th {\n",
       "        vertical-align: top;\n",
       "    }\n",
       "\n",
       "    .dataframe thead th {\n",
       "        text-align: right;\n",
       "    }\n",
       "</style>\n",
       "<table border=\"1\" class=\"dataframe\">\n",
       "  <thead>\n",
       "    <tr style=\"text-align: right;\">\n",
       "      <th></th>\n",
       "      <th>temp</th>\n",
       "      <th>rain</th>\n",
       "      <th>wind_speed</th>\n",
       "      <th>humidity</th>\n",
       "      <th>sun_hour</th>\n",
       "      <th>snow</th>\n",
       "      <th>cloud</th>\n",
       "    </tr>\n",
       "  </thead>\n",
       "  <tbody>\n",
       "    <tr>\n",
       "      <th>lower</th>\n",
       "      <td>-0.109594</td>\n",
       "      <td>-0.105230</td>\n",
       "      <td>-0.107997</td>\n",
       "      <td>-0.108979</td>\n",
       "      <td>-1.138715e-01</td>\n",
       "      <td>-0.106268</td>\n",
       "      <td>-1.137136e-01</td>\n",
       "    </tr>\n",
       "    <tr>\n",
       "      <th>upper</th>\n",
       "      <td>-0.100406</td>\n",
       "      <td>-0.104770</td>\n",
       "      <td>-0.102003</td>\n",
       "      <td>-0.101021</td>\n",
       "      <td>-9.612847e-02</td>\n",
       "      <td>-0.103732</td>\n",
       "      <td>-9.628639e-02</td>\n",
       "    </tr>\n",
       "    <tr>\n",
       "      <th>z(t)</th>\n",
       "      <td>-44.794508</td>\n",
       "      <td>-895.364507</td>\n",
       "      <td>-68.670735</td>\n",
       "      <td>-51.718000</td>\n",
       "      <td>-2.319780e+01</td>\n",
       "      <td>-162.364528</td>\n",
       "      <td>-2.361822e+01</td>\n",
       "    </tr>\n",
       "    <tr>\n",
       "      <th>p-value</th>\n",
       "      <td>0.000000</td>\n",
       "      <td>0.000000</td>\n",
       "      <td>0.000000</td>\n",
       "      <td>0.000000</td>\n",
       "      <td>4.791971e-119</td>\n",
       "      <td>0.000000</td>\n",
       "      <td>2.504865e-123</td>\n",
       "    </tr>\n",
       "  </tbody>\n",
       "</table>\n",
       "</div>"
      ],
      "text/plain": [
       "              temp        rain  wind_speed   humidity       sun_hour  \\\n",
       "lower    -0.109594   -0.105230   -0.107997  -0.108979  -1.138715e-01   \n",
       "upper    -0.100406   -0.104770   -0.102003  -0.101021  -9.612847e-02   \n",
       "z(t)    -44.794508 -895.364507  -68.670735 -51.718000  -2.319780e+01   \n",
       "p-value   0.000000    0.000000    0.000000   0.000000  4.791971e-119   \n",
       "\n",
       "               snow          cloud  \n",
       "lower     -0.106268  -1.137136e-01  \n",
       "upper     -0.103732  -9.628639e-02  \n",
       "z(t)    -162.364528  -2.361822e+01  \n",
       "p-value    0.000000  2.504865e-123  "
      ]
     },
     "execution_count": 55,
     "metadata": {},
     "output_type": "execute_result"
    }
   ],
   "source": [
    "### total effect 95% 신뢰구간\n",
    "\n",
    "CI = pd.DataFrame((direct_FMA - 1.96*FSE, direct_FMA + 1.96*FSE),\n",
    "             columns = X_no.columns,\n",
    "             index = ['lower','upper'])\n",
    "\n",
    "### z(t) & p-value\n",
    "import scipy.stats as stats\n",
    "ZP = pd.DataFrame((np.array(direct_FMA/FSE), 2*stats.norm(0, 1).cdf(direct_FMA/FSE)),\n",
    "            columns = X_no.columns,\n",
    "            index= ['z(t)','p-value'])\n",
    "\n",
    "pd.concat([CI,ZP])"
   ]
  },
  {
   "cell_type": "markdown",
   "id": "8ebb96e3",
   "metadata": {},
   "source": [
    "## indirect effect 구하기"
   ]
  },
  {
   "cell_type": "code",
   "execution_count": 56,
   "id": "779d0bd0",
   "metadata": {
    "scrolled": true
   },
   "outputs": [],
   "source": [
    "m_no = df_SJ_no[['sun_power']]\n",
    "m_no_fuzzy = fuzzy(m_no)"
   ]
  },
  {
   "cell_type": "markdown",
   "id": "48aec3e4",
   "metadata": {},
   "source": [
    "### CMA"
   ]
  },
  {
   "cell_type": "markdown",
   "id": "87d1df34",
   "metadata": {},
   "source": [
    "준비물 beta_a,cse_a,beta_b,cse_b"
   ]
  },
  {
   "cell_type": "code",
   "execution_count": 57,
   "id": "1e1b5c65",
   "metadata": {},
   "outputs": [
    {
     "data": {
      "text/plain": [
       "temp          0.201368\n",
       "rain         -0.601276\n",
       "wind_speed    0.113341\n",
       "humidity     -0.255247\n",
       "sun_hour      0.359836\n",
       "snow          0.062921\n",
       "cloud         0.053575\n",
       "dtype: float64"
      ]
     },
     "execution_count": 57,
     "metadata": {},
     "output_type": "execute_result"
    }
   ],
   "source": [
    "beta_a = linear_reg(X_no,m_no).params[1:]\n",
    "beta_a"
   ]
  },
  {
   "cell_type": "code",
   "execution_count": 58,
   "id": "43ac974d",
   "metadata": {
    "scrolled": true
   },
   "outputs": [
    {
     "data": {
      "text/plain": [
       "temp          0.003635\n",
       "rain          0.072640\n",
       "wind_speed    0.005797\n",
       "humidity      0.004998\n",
       "sun_hour      0.002297\n",
       "snow          0.012128\n",
       "cloud         0.001935\n",
       "dtype: float64"
      ]
     },
     "execution_count": 58,
     "metadata": {},
     "output_type": "execute_result"
    }
   ],
   "source": [
    "cse_a = linear_reg(X_no,m_no).bse[1:]\n",
    "cse_a"
   ]
  },
  {
   "cell_type": "code",
   "execution_count": 59,
   "id": "50671ef3",
   "metadata": {},
   "outputs": [
    {
     "data": {
      "text/plain": [
       "1.0271270268596289"
      ]
     },
     "execution_count": 59,
     "metadata": {},
     "output_type": "execute_result"
    }
   ],
   "source": [
    "beta_b = linear_reg(X.m_no,y_no).params[6]\n",
    "beta_b"
   ]
  },
  {
   "cell_type": "code",
   "execution_count": 60,
   "id": "ef1fc337",
   "metadata": {},
   "outputs": [
    {
     "data": {
      "text/plain": [
       "0.003646889306440721"
      ]
     },
     "execution_count": 60,
     "metadata": {},
     "output_type": "execute_result"
    }
   ],
   "source": [
    "cse_b = linear_reg(X.m_no,y_no).bse[6]\n",
    "cse_b"
   ]
  },
  {
   "cell_type": "markdown",
   "id": "7f53bc0b",
   "metadata": {},
   "source": [
    "최종 CSE 구하기"
   ]
  },
  {
   "cell_type": "code",
   "execution_count": 61,
   "id": "05aa81bf",
   "metadata": {},
   "outputs": [
    {
     "data": {
      "text/plain": [
       "temp          0.003805\n",
       "rain          0.074643\n",
       "wind_speed    0.005969\n",
       "humidity      0.005217\n",
       "sun_hour      0.002699\n",
       "snow          0.012459\n",
       "cloud         0.001998\n",
       "dtype: float64"
      ]
     },
     "execution_count": 61,
     "metadata": {},
     "output_type": "execute_result"
    }
   ],
   "source": [
    "CSE = np.sqrt(beta_a**2 * cse_b**2 + beta_b**2 * cse_a**2 +  cse_a**2 *  cse_b**2)\n",
    "CSE"
   ]
  },
  {
   "cell_type": "code",
   "execution_count": 62,
   "id": "af780f06",
   "metadata": {
    "scrolled": true
   },
   "outputs": [
    {
     "data": {
      "text/html": [
       "<div>\n",
       "<style scoped>\n",
       "    .dataframe tbody tr th:only-of-type {\n",
       "        vertical-align: middle;\n",
       "    }\n",
       "\n",
       "    .dataframe tbody tr th {\n",
       "        vertical-align: top;\n",
       "    }\n",
       "\n",
       "    .dataframe thead th {\n",
       "        text-align: right;\n",
       "    }\n",
       "</style>\n",
       "<table border=\"1\" class=\"dataframe\">\n",
       "  <thead>\n",
       "    <tr style=\"text-align: right;\">\n",
       "      <th></th>\n",
       "      <th>temp</th>\n",
       "      <th>rain</th>\n",
       "      <th>wind_speed</th>\n",
       "      <th>humidity</th>\n",
       "      <th>sun_hour</th>\n",
       "      <th>snow</th>\n",
       "      <th>cloud</th>\n",
       "    </tr>\n",
       "  </thead>\n",
       "  <tbody>\n",
       "    <tr>\n",
       "      <th>lower</th>\n",
       "      <td>-7.445840e-02</td>\n",
       "      <td>-0.213300</td>\n",
       "      <td>-7.869870e-02</td>\n",
       "      <td>-7.722542e-02</td>\n",
       "      <td>-7.229101e-02</td>\n",
       "      <td>-9.142043e-02</td>\n",
       "      <td>-7.091526e-02</td>\n",
       "    </tr>\n",
       "    <tr>\n",
       "      <th>upper</th>\n",
       "      <td>-5.954160e-02</td>\n",
       "      <td>0.079300</td>\n",
       "      <td>-5.530130e-02</td>\n",
       "      <td>-5.677458e-02</td>\n",
       "      <td>-6.170899e-02</td>\n",
       "      <td>-4.257957e-02</td>\n",
       "      <td>-6.308474e-02</td>\n",
       "    </tr>\n",
       "    <tr>\n",
       "      <th>z(t)</th>\n",
       "      <td>-1.760700e+01</td>\n",
       "      <td>-0.897605</td>\n",
       "      <td>-1.122517e+01</td>\n",
       "      <td>-1.284250e+01</td>\n",
       "      <td>-2.481945e+01</td>\n",
       "      <td>-5.377464e+00</td>\n",
       "      <td>-3.354054e+01</td>\n",
       "    </tr>\n",
       "    <tr>\n",
       "      <th>p-value</th>\n",
       "      <td>2.176896e-69</td>\n",
       "      <td>0.369396</td>\n",
       "      <td>3.067806e-29</td>\n",
       "      <td>9.476451e-38</td>\n",
       "      <td>5.528902e-136</td>\n",
       "      <td>7.554214e-08</td>\n",
       "      <td>1.236836e-246</td>\n",
       "    </tr>\n",
       "  </tbody>\n",
       "</table>\n",
       "</div>"
      ],
      "text/plain": [
       "                 temp      rain    wind_speed      humidity       sun_hour  \\\n",
       "lower   -7.445840e-02 -0.213300 -7.869870e-02 -7.722542e-02  -7.229101e-02   \n",
       "upper   -5.954160e-02  0.079300 -5.530130e-02 -5.677458e-02  -6.170899e-02   \n",
       "z(t)    -1.760700e+01 -0.897605 -1.122517e+01 -1.284250e+01  -2.481945e+01   \n",
       "p-value  2.176896e-69  0.369396  3.067806e-29  9.476451e-38  5.528902e-136   \n",
       "\n",
       "                 snow          cloud  \n",
       "lower   -9.142043e-02  -7.091526e-02  \n",
       "upper   -4.257957e-02  -6.308474e-02  \n",
       "z(t)    -5.377464e+00  -3.354054e+01  \n",
       "p-value  7.554214e-08  1.236836e-246  "
      ]
     },
     "execution_count": 62,
     "metadata": {},
     "output_type": "execute_result"
    }
   ],
   "source": [
    "### indirect effect 95% 신뢰구간\n",
    "\n",
    "CI = pd.DataFrame((indirect_CMA - 1.96*CSE, indirect_CMA + 1.96*CSE),\n",
    "             columns = X_no.columns,\n",
    "             index = ['lower','upper'])\n",
    "\n",
    "### z(t) & p-value\n",
    "import scipy.stats as stats\n",
    "ZP = pd.DataFrame((np.array(indirect_CMA/CSE), 2*stats.norm(0, 1).cdf(indirect_CMA/CSE)),\n",
    "            columns = X_no.columns,\n",
    "            index= ['z(t)','p-value'])\n",
    "\n",
    "pd.concat([CI,ZP])"
   ]
  },
  {
   "cell_type": "markdown",
   "id": "f5a238d1",
   "metadata": {},
   "source": [
    "### FMA"
   ]
  },
  {
   "cell_type": "markdown",
   "id": "adbb6c94",
   "metadata": {},
   "source": [
    "준비물 beta_a,cse_a,beta_b,cse_b"
   ]
  },
  {
   "cell_type": "code",
   "execution_count": 63,
   "id": "07f9389c",
   "metadata": {},
   "outputs": [],
   "source": [
    "beta_a = beta_X_to_m[1:] #const 제외"
   ]
  },
  {
   "cell_type": "code",
   "execution_count": 64,
   "id": "22db3250",
   "metadata": {},
   "outputs": [],
   "source": [
    "### FSD, FSE 구하기_direct effect에서 가져옴\n",
    "FSD = np.sqrt(((X_no_fuzzy - X_no_fuzzy.mean(axis=0))**2).sum(axis=-1).sum(axis=0)/(n-1))\n",
    "FSE = FSD/np.sqrt(n)"
   ]
  },
  {
   "cell_type": "code",
   "execution_count": 65,
   "id": "d14e8943",
   "metadata": {},
   "outputs": [],
   "source": [
    "fse_a = FSE"
   ]
  },
  {
   "cell_type": "code",
   "execution_count": 66,
   "id": "cd98c774",
   "metadata": {},
   "outputs": [],
   "source": [
    "beta_b = beta_Xm_to_y[6]"
   ]
  },
  {
   "cell_type": "code",
   "execution_count": 67,
   "id": "3c81ceff",
   "metadata": {},
   "outputs": [],
   "source": [
    "### FSD, FSE 구하기_total effect에서 가져옴\n",
    "FSD = np.sqrt(((X.m_no_fuzzy - X.m_no_fuzzy.mean(axis=0))**2).sum(axis=-1).sum(axis=0)/(n-1))\n",
    "FSE = FSD/np.sqrt(n)"
   ]
  },
  {
   "cell_type": "code",
   "execution_count": 68,
   "id": "ae2614a7",
   "metadata": {},
   "outputs": [],
   "source": [
    "fse_b = FSE[6]"
   ]
  },
  {
   "cell_type": "markdown",
   "id": "eea9b37d",
   "metadata": {},
   "source": [
    "최종 FSE 구하기"
   ]
  },
  {
   "cell_type": "code",
   "execution_count": 69,
   "id": "8e8878f8",
   "metadata": {},
   "outputs": [
    {
     "data": {
      "text/plain": [
       "array([0.00239857, 0.00033669, 0.0015644 , 0.0020807 , 0.00462982,\n",
       "       0.00066211, 0.00454207])"
      ]
     },
     "execution_count": 69,
     "metadata": {},
     "output_type": "execute_result"
    }
   ],
   "source": [
    "FSE = np.sqrt(beta_a**2 * fse_b**2 + beta_b**2 * fse_a**2 +  fse_a**2 *  fse_b**2)\n",
    "FSE"
   ]
  },
  {
   "cell_type": "code",
   "execution_count": 70,
   "id": "78e4579e",
   "metadata": {},
   "outputs": [
    {
     "data": {
      "text/plain": [
       "array([ 25.84871413, 184.14509062,  39.63171002,  29.79766035,\n",
       "        13.3914417 ,  93.63955719,  13.65016558])"
      ]
     },
     "execution_count": 70,
     "metadata": {},
     "output_type": "execute_result"
    }
   ],
   "source": [
    "Z = indirect_FMA/FSE\n",
    "Z"
   ]
  },
  {
   "cell_type": "code",
   "execution_count": 71,
   "id": "a2ea2f45",
   "metadata": {},
   "outputs": [
    {
     "data": {
      "text/html": [
       "<div>\n",
       "<style scoped>\n",
       "    .dataframe tbody tr th:only-of-type {\n",
       "        vertical-align: middle;\n",
       "    }\n",
       "\n",
       "    .dataframe tbody tr th {\n",
       "        vertical-align: top;\n",
       "    }\n",
       "\n",
       "    .dataframe thead th {\n",
       "        text-align: right;\n",
       "    }\n",
       "</style>\n",
       "<table border=\"1\" class=\"dataframe\">\n",
       "  <thead>\n",
       "    <tr style=\"text-align: right;\">\n",
       "      <th></th>\n",
       "      <th>temp</th>\n",
       "      <th>rain</th>\n",
       "      <th>wind_speed</th>\n",
       "      <th>humidity</th>\n",
       "      <th>sun_hour</th>\n",
       "      <th>snow</th>\n",
       "      <th>cloud</th>\n",
       "    </tr>\n",
       "  </thead>\n",
       "  <tbody>\n",
       "    <tr>\n",
       "      <th>lower</th>\n",
       "      <td>0.057299</td>\n",
       "      <td>0.061340</td>\n",
       "      <td>0.058934</td>\n",
       "      <td>0.057922</td>\n",
       "      <td>0.052926</td>\n",
       "      <td>0.060702</td>\n",
       "      <td>0.053098</td>\n",
       "    </tr>\n",
       "    <tr>\n",
       "      <th>upper</th>\n",
       "      <td>0.066701</td>\n",
       "      <td>0.062660</td>\n",
       "      <td>0.065066</td>\n",
       "      <td>0.066078</td>\n",
       "      <td>0.071074</td>\n",
       "      <td>0.063298</td>\n",
       "      <td>0.070902</td>\n",
       "    </tr>\n",
       "    <tr>\n",
       "      <th>z(t)</th>\n",
       "      <td>25.848714</td>\n",
       "      <td>184.145091</td>\n",
       "      <td>39.631710</td>\n",
       "      <td>29.797660</td>\n",
       "      <td>13.391442</td>\n",
       "      <td>93.639557</td>\n",
       "      <td>13.650166</td>\n",
       "    </tr>\n",
       "    <tr>\n",
       "      <th>p-value</th>\n",
       "      <td>0.000000</td>\n",
       "      <td>0.000000</td>\n",
       "      <td>0.000000</td>\n",
       "      <td>0.000000</td>\n",
       "      <td>0.000000</td>\n",
       "      <td>0.000000</td>\n",
       "      <td>0.000000</td>\n",
       "    </tr>\n",
       "  </tbody>\n",
       "</table>\n",
       "</div>"
      ],
      "text/plain": [
       "              temp        rain  wind_speed   humidity   sun_hour       snow  \\\n",
       "lower     0.057299    0.061340    0.058934   0.057922   0.052926   0.060702   \n",
       "upper     0.066701    0.062660    0.065066   0.066078   0.071074   0.063298   \n",
       "z(t)     25.848714  184.145091   39.631710  29.797660  13.391442  93.639557   \n",
       "p-value   0.000000    0.000000    0.000000   0.000000   0.000000   0.000000   \n",
       "\n",
       "             cloud  \n",
       "lower     0.053098  \n",
       "upper     0.070902  \n",
       "z(t)     13.650166  \n",
       "p-value   0.000000  "
      ]
     },
     "execution_count": 71,
     "metadata": {},
     "output_type": "execute_result"
    }
   ],
   "source": [
    "### indirect effect 95% 신뢰구간\n",
    "\n",
    "CI = pd.DataFrame((indirect_FMA - 1.96*FSE, indirect_FMA + 1.96*FSE),\n",
    "             columns = X_no.columns,\n",
    "             index = ['lower','upper'])\n",
    "\n",
    "### z(t) & p-value\n",
    "import scipy.stats as stats\n",
    "\n",
    "ZP = pd.DataFrame((np.array(indirect_FMA/FSE), 2*(1-stats.norm(0, 1).cdf(indirect_FMA/FSE))),\n",
    "            columns = X_no.columns,\n",
    "            index= ['z(t)','p-value'])\n",
    "\n",
    "pd.concat([CI,ZP])"
   ]
  },
  {
   "cell_type": "code",
   "execution_count": null,
   "id": "f86f4eb2",
   "metadata": {},
   "outputs": [],
   "source": []
  }
 ],
 "metadata": {
  "kernelspec": {
   "display_name": "Python 3 (ipykernel)",
   "language": "python",
   "name": "python3"
  },
  "language_info": {
   "codemirror_mode": {
    "name": "ipython",
    "version": 3
   },
   "file_extension": ".py",
   "mimetype": "text/x-python",
   "name": "python",
   "nbconvert_exporter": "python",
   "pygments_lexer": "ipython3",
   "version": "3.7.11"
  },
  "toc": {
   "base_numbering": 1,
   "nav_menu": {},
   "number_sections": true,
   "sideBar": true,
   "skip_h1_title": false,
   "title_cell": "Table of Contents",
   "title_sidebar": "Contents",
   "toc_cell": false,
   "toc_position": {
    "height": "calc(100% - 180px)",
    "left": "10px",
    "top": "150px",
    "width": "146.181px"
   },
   "toc_section_display": true,
   "toc_window_display": true
  },
  "widgets": {
   "application/vnd.jupyter.widget-state+json": {
    "state": {},
    "version_major": 2,
    "version_minor": 0
   }
  }
 },
 "nbformat": 4,
 "nbformat_minor": 5
}
